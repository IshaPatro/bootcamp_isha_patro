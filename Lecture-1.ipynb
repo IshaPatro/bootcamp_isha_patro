{
 "cells": [
  {
   "cell_type": "markdown",
   "metadata": {},
   "source": [
    "# Bootcamp Lecture-1"
   ]
  },
  {
   "cell_type": "markdown",
   "metadata": {},
   "source": [
    "## Create Your Virtual Environment"
   ]
  },
  {
   "cell_type": "code",
   "execution_count": 11,
   "metadata": {},
   "outputs": [
    {
     "name": "stdout",
     "output_type": "stream",
     "text": [
      "Requirement already satisfied: ipykernel in /Users/isha/.pyenv/versions/3.10.10/lib/python3.10/site-packages (6.29.4)\n",
      "Requirement already satisfied: appnope in /Users/isha/.pyenv/versions/3.10.10/lib/python3.10/site-packages (from ipykernel) (0.1.4)\n",
      "Requirement already satisfied: comm>=0.1.1 in /Users/isha/.pyenv/versions/3.10.10/lib/python3.10/site-packages (from ipykernel) (0.2.2)\n",
      "Requirement already satisfied: debugpy>=1.6.5 in /Users/isha/.pyenv/versions/3.10.10/lib/python3.10/site-packages (from ipykernel) (1.8.1)\n",
      "Requirement already satisfied: ipython>=7.23.1 in /Users/isha/.pyenv/versions/3.10.10/lib/python3.10/site-packages (from ipykernel) (8.25.0)\n",
      "Requirement already satisfied: jupyter-client>=6.1.12 in /Users/isha/.pyenv/versions/3.10.10/lib/python3.10/site-packages (from ipykernel) (8.6.2)\n",
      "Requirement already satisfied: jupyter-core!=5.0.*,>=4.12 in /Users/isha/.pyenv/versions/3.10.10/lib/python3.10/site-packages (from ipykernel) (5.7.2)\n",
      "Requirement already satisfied: matplotlib-inline>=0.1 in /Users/isha/.pyenv/versions/3.10.10/lib/python3.10/site-packages (from ipykernel) (0.1.7)\n",
      "Requirement already satisfied: nest-asyncio in /Users/isha/.pyenv/versions/3.10.10/lib/python3.10/site-packages (from ipykernel) (1.6.0)\n",
      "Requirement already satisfied: packaging in /Users/isha/.pyenv/versions/3.10.10/lib/python3.10/site-packages (from ipykernel) (23.2)\n",
      "Requirement already satisfied: psutil in /Users/isha/.pyenv/versions/3.10.10/lib/python3.10/site-packages (from ipykernel) (6.0.0)\n",
      "Requirement already satisfied: pyzmq>=24 in /Users/isha/.pyenv/versions/3.10.10/lib/python3.10/site-packages (from ipykernel) (26.0.3)\n",
      "Requirement already satisfied: tornado>=6.1 in /Users/isha/.pyenv/versions/3.10.10/lib/python3.10/site-packages (from ipykernel) (6.4.1)\n",
      "Requirement already satisfied: traitlets>=5.4.0 in /Users/isha/.pyenv/versions/3.10.10/lib/python3.10/site-packages (from ipykernel) (5.14.3)\n",
      "Requirement already satisfied: decorator in /Users/isha/.pyenv/versions/3.10.10/lib/python3.10/site-packages (from ipython>=7.23.1->ipykernel) (5.1.1)\n",
      "Requirement already satisfied: jedi>=0.16 in /Users/isha/.pyenv/versions/3.10.10/lib/python3.10/site-packages (from ipython>=7.23.1->ipykernel) (0.19.1)\n",
      "Requirement already satisfied: prompt-toolkit<3.1.0,>=3.0.41 in /Users/isha/.pyenv/versions/3.10.10/lib/python3.10/site-packages (from ipython>=7.23.1->ipykernel) (3.0.47)\n",
      "Requirement already satisfied: pygments>=2.4.0 in /Users/isha/.pyenv/versions/3.10.10/lib/python3.10/site-packages (from ipython>=7.23.1->ipykernel) (2.18.0)\n",
      "Requirement already satisfied: stack-data in /Users/isha/.pyenv/versions/3.10.10/lib/python3.10/site-packages (from ipython>=7.23.1->ipykernel) (0.6.3)\n",
      "Requirement already satisfied: exceptiongroup in /Users/isha/.pyenv/versions/3.10.10/lib/python3.10/site-packages (from ipython>=7.23.1->ipykernel) (1.2.1)\n",
      "Requirement already satisfied: typing-extensions>=4.6 in /Users/isha/.pyenv/versions/3.10.10/lib/python3.10/site-packages (from ipython>=7.23.1->ipykernel) (4.12.2)\n",
      "Requirement already satisfied: pexpect>4.3 in /Users/isha/.pyenv/versions/3.10.10/lib/python3.10/site-packages (from ipython>=7.23.1->ipykernel) (4.9.0)\n",
      "Requirement already satisfied: python-dateutil>=2.8.2 in /Users/isha/.pyenv/versions/3.10.10/lib/python3.10/site-packages (from jupyter-client>=6.1.12->ipykernel) (2.9.0.post0)\n",
      "Requirement already satisfied: platformdirs>=2.5 in /Users/isha/.pyenv/versions/3.10.10/lib/python3.10/site-packages (from jupyter-core!=5.0.*,>=4.12->ipykernel) (4.2.2)\n",
      "Requirement already satisfied: parso<0.9.0,>=0.8.3 in /Users/isha/.pyenv/versions/3.10.10/lib/python3.10/site-packages (from jedi>=0.16->ipython>=7.23.1->ipykernel) (0.8.4)\n",
      "Requirement already satisfied: ptyprocess>=0.5 in /Users/isha/.pyenv/versions/3.10.10/lib/python3.10/site-packages (from pexpect>4.3->ipython>=7.23.1->ipykernel) (0.7.0)\n",
      "Requirement already satisfied: wcwidth in /Users/isha/.pyenv/versions/3.10.10/lib/python3.10/site-packages (from prompt-toolkit<3.1.0,>=3.0.41->ipython>=7.23.1->ipykernel) (0.2.13)\n",
      "Requirement already satisfied: six>=1.5 in /Users/isha/.pyenv/versions/3.10.10/lib/python3.10/site-packages (from python-dateutil>=2.8.2->jupyter-client>=6.1.12->ipykernel) (1.16.0)\n",
      "Requirement already satisfied: executing>=1.2.0 in /Users/isha/.pyenv/versions/3.10.10/lib/python3.10/site-packages (from stack-data->ipython>=7.23.1->ipykernel) (2.0.1)\n",
      "Requirement already satisfied: asttokens>=2.1.0 in /Users/isha/.pyenv/versions/3.10.10/lib/python3.10/site-packages (from stack-data->ipython>=7.23.1->ipykernel) (2.4.1)\n",
      "Requirement already satisfied: pure-eval in /Users/isha/.pyenv/versions/3.10.10/lib/python3.10/site-packages (from stack-data->ipython>=7.23.1->ipykernel) (0.2.2)\n",
      "\n",
      "\u001b[1m[\u001b[0m\u001b[34;49mnotice\u001b[0m\u001b[1;39;49m]\u001b[0m\u001b[39;49m A new release of pip is available: \u001b[0m\u001b[31;49m25.0.1\u001b[0m\u001b[39;49m -> \u001b[0m\u001b[32;49m25.2\u001b[0m\n",
      "\u001b[1m[\u001b[0m\u001b[34;49mnotice\u001b[0m\u001b[1;39;49m]\u001b[0m\u001b[39;49m To update, run: \u001b[0m\u001b[32;49mpip install --upgrade pip\u001b[0m\n",
      "Installed kernelspec bootcamp_env in /Users/isha/Library/Jupyter/kernels/bootcamp_env\n"
     ]
    }
   ],
   "source": [
    "!python3 -m venv bootcamp_env\n",
    "!source bootcamp_env/bin/activate\n",
    "!pip install ipykernel\n",
    "!python -m ipykernel install --user --name=bootcamp_env --display-name \"Python (bootcamp_env)\""
   ]
  },
  {
   "cell_type": "markdown",
   "metadata": {},
   "source": [
    "## Test with JupyterLab"
   ]
  },
  {
   "cell_type": "code",
   "execution_count": 1,
   "metadata": {},
   "outputs": [
    {
     "name": "stdout",
     "output_type": "stream",
     "text": [
      "Hello, Bootcamp!\n"
     ]
    }
   ],
   "source": [
    "print(\"Hello, Bootcamp!\")"
   ]
  },
  {
   "cell_type": "markdown",
   "metadata": {},
   "source": [
    "## Install Git"
   ]
  },
  {
   "cell_type": "code",
   "execution_count": 3,
   "metadata": {},
   "outputs": [
    {
     "name": "stdout",
     "output_type": "stream",
     "text": [
      "\u001b[34m==>\u001b[0m \u001b[1mAuto-updating Homebrew...\u001b[0m\n",
      "Adjust how often this is run with HOMEBREW_AUTO_UPDATE_SECS or disable with\n",
      "HOMEBREW_NO_AUTO_UPDATE. Hide these hints with HOMEBREW_NO_ENV_HINTS (see `man brew`).\n",
      "\u001b[34m==>\u001b[0m \u001b[1mDownloading https://ghcr.io/v2/homebrew/portable-ruby/portable-ruby/blobs/sha256:20fa657858e44a4b39171d6e4111f8a9716eb62a78ebbd1491d94f90bb7b830a\u001b[0m\n",
      "######################################################################### 100.0%\n",
      "\u001b[34m==>\u001b[0m \u001b[1mPouring portable-ruby-3.4.5.arm64_big_sur.bottle.tar.gz\u001b[0m\n",
      "\u001b[34m==>\u001b[0m \u001b[1mAuto-updated Homebrew!\u001b[0m\n",
      "Updated 3 taps (heroku/brew, homebrew/core and homebrew/cask).\n",
      "\u001b[34m==>\u001b[0m \u001b[1mNew Formulae\u001b[0m\n",
      "abpoa: SIMD-based C library for fast partial order alignment using adaptive band\n",
      "act_runner: Action runner for Gitea based on Gitea's fork of act\n",
      "aiac: Artificial Intelligence Infrastructure-as-Code Generator\n",
      "aiken: Modern smart contract platform for Cardano\n",
      "air: Fast and opinionated formatter for R code\n",
      "apache-polaris: Interoperable, open source catalog for Apache Iceberg\n",
      "apigeecli: Apigee management API command-line interface\n",
      "arp-scan-rs: ARP scan tool written in Rust for fast local network scans\n",
      "assimp@5: Portable library for importing many well-known 3D model formats\n",
      "ayatana-ido: Ayatana Indicator Display Objects\n",
      "b4: Tool to work with public-inbox and patch archives\n",
      "backgroundremover: Remove background from images and video using AI\n",
      "backlog-md: Markdown‑native Task Manager & Kanban visualizer for any Git repository\n",
      "badread: Long read simulator that can imitate many types of read problems\n",
      "bb-cli: Bitbucket Rest API CLI written in pure PHP\n",
      "brush: Bourne RUsty SHell (command interpreter)\n",
      "bstring: Fork of Paul Hsieh's Better String Library\n",
      "burrow: Kafka Consumer Lag Checking\n",
      "cargo-careful: Execute Rust code carefully, with extra checking along the way\n",
      "cargo-clone: Cargo subcommand to fetch the source code of a Rust crate\n",
      "cargo-component: Create WebAssembly components based on the component model proposal\n",
      "ccusage: CLI tool for analyzing Claude Code usage from local JSONL files\n",
      "chawan: TUI web browser with CSS, inline image and JavaScript support\n",
      "clipper2: Polygon clipping and offsetting library\n",
      "cogapp: Small bits of Python computation for static files\n",
      "copyparty: Portable file server\n",
      "dagu: Lightweight and powerful workflow engine\n",
      "damask-grid: Grid solver of DAMASK - Multi-physics crystal plasticity simulation package\n",
      "deck: Creates slide deck using Markdown and Google Slides\n",
      "decker: HyperCard-like multimedia sketchpad\n",
      "desed: Debugger for Sed\n",
      "dexidp: OpenID Connect Identity and OAuth 2.0 Provider\n",
      "diagram: CLI app to convert ASCII arts into hand drawn diagrams\n",
      "domain-check: CLI tool for checking domain availability using RDAP and WHOIS protocols\n",
      "dumbpipe: Unix pipes between devices\n",
      "dvisvgm: Fast DVI to SVG converter\n",
      "eask-cli: CLI for building, running, testing, and managing your Emacs Lisp dependencies\n",
      "electric: Real-time sync for Postgres\n",
      "endlessh: SSH tarpit that slowly sends an endless banner\n",
      "entt: Fast and reliable entity-component system for C++\n",
      "errcheck: Finds silently ignored errors in Go code\n",
      "execstack: Utility to set/clear/query executable stack bit\n",
      "faceprints: Detect and label images of faces using local Vision.framework models\n",
      "fakesteak: ASCII Matrix-like steak demo\n",
      "ffmate: FFmpeg automation layer\n",
      "filen-cli: Interface with Filen, an end-to-end encrypted cloud storage service\n",
      "flexget: Multipurpose automation tool for content\n",
      "forgejo: Self-hosted lightweight software forge\n",
      "fx-upscale: Metal-powered video upscaling\n",
      "gbox: Self-hostable sandbox for AI Agents to execute commands and surf web\n",
      "gemini-cli: Interact with Google Gemini AI models from the command-line\n",
      "gerust: Project generator for Rust backend projects\n",
      "ghalint: GitHub Actions linter\n",
      "gitea-mcp-server: Interactive with Gitea instances with MCP\n",
      "gitlab-release-cli: Toolset to create, retrieve and update releases on GitLab\n",
      "gitmux: Git status in tmux status bar\n",
      "glom: Declarative object transformer and formatter, for conglomerating nested data\n",
      "go-rice: Easily embed resources like HTML, JS, CSS, images, and templates in Go\n",
      "go@1.24: Open source programming language to build simple/reliable/efficient software\n",
      "goodls: CLI tool to download shared files and folders from Google Drive\n",
      "gpgmepp: C++ bindings for gpgme\n",
      "gpgmepy: Python bindings for gpgme\n",
      "gradle@8: Open-source build automation tool based on the Groovy and Kotlin DSL\n",
      "gravitino: High-performance, geo-distributed, and federated metadata lake\n",
      "hdr10plus_tool: CLI utility to work with HDR10+ in HEVC files\n",
      "ifopt: Light-weight C++ Interface to Nonlinear Programming Solvers\n",
      "jq-lsp: Jq language server\n",
      "kafkactl-aws-plugin: AWS Plugin for kafkactl\n",
      "kafkactl-azure-plugin: Azure Plugin for kafkactl\n",
      "kbt: Keyboard tester in terminal\n",
      "kingfisher: MongoDB's blazingly fast secret scanning and validation tool\n",
      "kissat: Bare metal SAT solver\n",
      "lakekeeper: Apache Iceberg REST Catalog\n",
      "ldcli: CLI for managing LaunchDarkly feature flags\n",
      "libayatana-appindicator: Ayatana Application Indicators Shared Library\n",
      "libayatana-indicator: Ayatana Indicators Shared Library\n",
      "libcaption: Free open-source CEA608 / CEA708 closed-caption encoder/decoder\n",
      "libdbusmenu: GLib and Gtk Implementation of the DBusMenu protocol\n",
      "libngtcp2: IETF QUIC protocol implementation\n",
      "limine: Modern, advanced, portable, multiprotocol bootloader and boot manager\n",
      "lnk: Git-native dotfiles management that doesn't suck\n",
      "lolcrab: Make your console colorful, with OpenSimplex noise\n",
      "lsr: Ls but with io_uring\n",
      "lstr: Fast, minimalist directory tree viewer\n",
      "lunarml: Standard ML compiler that produces Lua/JavaScript\n",
      "lunasvg: SVG rendering and manipulation library in C++\n",
      "lutgen: Blazingly fast interpolated LUT generator and applicator for color palettes\n",
      "manifold: Geometry library for topological robustness\n",
      "mcp-inspector: Visual testing tool for MCP servers\n",
      "mcp-proxy: Bridge between Streamable HTTP and stdio MCP transports\n",
      "mcphost: CLI host for LLMs to interact with tools via MCP\n",
      "mcptools: CLI for interacting with MCP servers using both stdio and HTTP transport\n",
      "media-control: Control and observe media playback from the command-line\n",
      "memtier_benchmark: Redis and Memcache traffic generation and benchmarking tool\n",
      "mermaid-cli: CLI for Mermaid library\n",
      "min-lang: Small but practical concatenative programming language and shell\n",
      "minify: Minifier for HTML, CSS, JS, JSON, SVG, and XML\n",
      "mk: Wrapper for auto-detecting build and test commands in a repository\n",
      "mlc: Check for broken links in markup files\n",
      "moodle-dl: Downloads course content fast from Moodle (e.g., lecture PDFs)\n",
      "mpremote: Tool for interacting remotely with MicroPython devices\n",
      "msolve: Library for Polynomial System Solving through Algebraic Methods\n",
      "nessie: Transactional Catalog for Data Lakes with Git-like semantics\n",
      "nixfmt: Command-line tool to format Nix language code\n",
      "nyan: Colorizing `cat` command with syntax highlighting\n",
      "onigmo: Regular expressions library forked from Oniguruma\n",
      "osx-trash: Allows trashing of files instead of tempting fate with rm\n",
      "ovsx: Command-line interface for Eclipse Open VSX\n",
      "pgslice: Postgres partitioning as easy as pie\n",
      "plakar: Create backups with compression, encryption and deduplication\n",
      "plutovg: Tiny 2D vector graphics library in C\n",
      "pulp-cli: Command-line interface for Pulp 3\n",
      "pulumictl: Swiss army knife for Pulumi development\n",
      "pyrefly: Fast type checker and IDE for Python\n",
      "pytr: Use TradeRepublic in terminal and mass download all documents\n",
      "qrkey: Generate and recover QR codes from files for offline private key backup\n",
      "rggen: Code generation tool for control and status registers\n",
      "rnp: High performance C++ OpenPGP library used by Mozilla Thunderbird\n",
      "rqbit: Fast command-line bittorrent client and server\n",
      "rsql: CLI for relational databases and common data file formats\n",
      "rulesync: Unified AI rules management CLI tool\n",
      "scdl: Command-line tool to download music from SoundCloud\n",
      "secretspec: Declarative secrets management tool\n",
      "sherif: Opinionated, zero-config linter for JavaScript monorepos\n",
      "somo: Human-friendly alternative to netstat for socket and port monitoring\n",
      "sox_ng: Sound eXchange NG\n",
      "spice-server: Implements the server side of the SPICE protocol\n",
      "sprocket: Bioinformatics workflow engine built on the Workflow Description Language (WDL)\n",
      "sqlite-rsync: SQLite remote copy tool\n",
      "stormy: Minimal, customizable and neofetch-like weather CLI based on rainy\n",
      "stringtie: Transcript assembly and quantification for RNA-Seq\n",
      "stu: TUI explorer application for Amazon S3 (AWS S3)\n",
      "swift-section: CLI tool for parsing mach-o files to obtain Swift information\n",
      "teslamate: Self-hosted data logger for your Tesla\n",
      "tfmcp: Terraform Model Context Protocol (MCP) Tool\n",
      "tiledb: Universal storage engine\n",
      "tofu-ls: OpenTofu Language Server\n",
      "tree-sitter-cli: Parser generator tool\n",
      "tun2proxy: Tunnel (TUN) interface for SOCKS and HTTP proxies\n",
      "unitycatalog: Open, Multi-modal Catalog for Data & AI\n",
      "uvwasi: WASI syscall API built atop libuv\n",
      "varlock: Add declarative schema to .env files using @env-spec decorator comments\n",
      "videoalchemy: Toolkit expanding video processing capabilities\n",
      "vineflower: Java decompiler\n",
      "vsd: Download video streams over HTTP, DASH (.mpd), and HLS (.m3u8)\n",
      "wait4x: Wait for a port or a service to enter the requested state\n",
      "wayback: Archiving tool integrated with various archival services\n",
      "wgpu-native: Native WebGPU implementation based on wgpu-core\n",
      "wxwidgets@3.2: Cross-platform C++ GUI toolkit\n",
      "yaml2json: Command-line tool convert from YAML to JSON\n",
      "yek: Fast Rust based tool to serialize text-based files for LLM consumption\n",
      "\u001b[34m==>\u001b[0m \u001b[1mNew Casks\u001b[0m\n",
      "accordance@13: Bible study software\n",
      "advantagescope: FRC log analysis tool\n",
      "aigcpanel: AI video, audio and broadcast generator\n",
      "alienator88-sentinel: Configure Gatekeeper, unquarantine and self-sign apps\n",
      "allen-and-heath-midi-control: Midi control software for Allen & Heath audio consoles\n",
      "aloha-browser: Web browser focused on privacy\n",
      "app-buddy: Helper for Sindre Sorhus's apps\n",
      "audio-modeling-software-center: Application for downloading, installing and updating Audio Modeling software\n",
      "bcut: Professional video editing software by Bilibili\n",
      "beid-token: Middleware for the Belgian eID system\n",
      "bettertouchtool@alpha: Tool to customise input devices and automate computer systems\n",
      "bloom: File manager\n",
      "boss: AI-powered workspace for complex business operations\n",
      "canon-mg2500-driver: CUPS driver for Canon PIXMA 2500 series\n",
      "claude-code: Terminal-based AI coding assistant\n",
      "codebolt: AI Powered Code Editor\n",
      "conductor: Claude code parallelisation\n",
      "container: Create and run Linux containers using lightweight virtual machines\n",
      "context: MCP client and inspector\n",
      "cursor-cli: Command-line agent for Cursor\n",
      "dda: Tool for developing on the Datadog Agent platform\n",
      "devonsphere-express: Find items related to the frontmost document locally or online\n",
      "dotnet-sdk@8: Developer platform\n",
      "doubao: AI chat assistant\n",
      "dyad: AI-powered app builder\n",
      "eid-viewer: Belgian ID card reader\n",
      "elasticvue: Elasticsearch GUI\n",
      "es-de: Frontend for browsing and launching games from your multi-platform collection\n",
      "fido2-manage: Manage FIDO2.1 security keys\n",
      "filefillet: Efficient file organizer\n",
      "flowdown: AI agent\n",
      "fmail3: Unofficial native application for Fastmail\n",
      "focusany: Open source desktop toolbox\n",
      "font-annotation-mono\n",
      "font-asimovian\n",
      "font-chiron-goround-tc\n",
      "font-cossette-texte\n",
      "font-cossette-titre\n",
      "font-gentium-book\n",
      "font-golos-ui\n",
      "font-google-sans-code\n",
      "font-libertinus-keyboard\n",
      "font-libertinus-sans\n",
      "font-libertinus-serif\n",
      "font-libertinus-serif-display\n",
      "font-maple-mono-nl\n",
      "font-maple-mono-nl-cn\n",
      "font-maple-mono-nl-nf\n",
      "font-maple-mono-nl-nf-cn\n",
      "font-maple-mono-normal-nl\n",
      "font-maple-mono-normal-nl-cn\n",
      "font-maple-mono-normal-nl-nf\n",
      "font-maple-mono-normal-nl-nf-cn\n",
      "font-medio\n",
      "font-melete\n",
      "font-mozilla-headline\n",
      "font-mozilla-text\n",
      "font-nacelle\n",
      "font-nata-sans\n",
      "font-noto-sans-sunuwar\n",
      "font-parastoo\n",
      "font-pt-astra-sans\n",
      "font-pt-astra-serif\n",
      "font-pt-root-ui\n",
      "font-sirivennela\n",
      "font-story-script\n",
      "font-tasa-explorer\n",
      "font-tasa-orbiter\n",
      "font-tenderness\n",
      "font-tiktok-sans\n",
      "font-tirra\n",
      "font-uoqmunthenkhung\n",
      "font-vend-sans\n",
      "font-zalando-sans\n",
      "font-zalando-sans-expanded\n",
      "font-zalando-sans-semiexpanded\n",
      "freefilesync: Folder comparison and synchronization software\n",
      "freelens@nightly: Kubernetes IDE\n",
      "futubull@legacy: Futubull trading application\n",
      "hoppscotch-selfhost: Desktop client for SelfHost version of the Hoppscotch API development ecosystem\n",
      "icon-composer: Apple tool to create multi-platform icons\n",
      "insta360-link-controller: Controller for Insta360 webcams\n",
      "jordanbaird-ice@beta: Menu bar manager\n",
      "kameleo: Antidetect browser to bypass anti-bot systems\n",
      "kiro: Agent-centric IDE with spec-driven development\n",
      "linkandroid: Open source android assistant\n",
      "linqpad: .NET LINQ database query tool and code scratchpad\n",
      "little-snitch@nightly: Host-based application firewall\n",
      "longbridge-pro: Stock trading platform\n",
      "loop-messenger: Team messenger for business communication\n",
      "macsyzones: Window management utility\n",
      "makeracam: CAM software for Makera CNCs\n",
      "msgfiler: Keyboard-based email filing application for Apple Mail\n",
      "music-presence: Discord music status that works with any media player\n",
      "nifty-file-lists: Extract file metadata into exportable tables\n",
      "opal-app: Screen time app\n",
      "open-data-editor: No-code application to explore, validate and publish data in a simple way\n",
      "osu@tachyon: Rhythm game\n",
      "pale-moon: Web browser\n",
      "pcsx2: Playstation 2 Emulator\n",
      "picview: Picture viewer\n",
      "pixieditor: Open Source Universal 2D Graphics Editor\n",
      "quakenotch: MacBook Notch utility\n",
      "raiderio: World of Warcraft client to track Mythic+ and Raid Progression\n",
      "rcloneview: GUI for rclone\n",
      "refine: Grammar checker\n",
      "retrospective: Log analysis tool\n",
      "riverside-studio: Podcast and video recorder\n",
      "rodecaster: Easily manage your RØDECaster or Streamer X setup\n",
      "scrub-utility: Cleans folders and volumes to guard against potential leaks of sensitive data\n",
      "serverbuddy: Manage Linux servers\n",
      "skint: Check status of key security settings and features\n",
      "sleep-aid: Monitor computer's sleeping habits\n",
      "smoothcsv: CSV editor\n",
      "spacesaver: Application designed to help you manage and optimize your workspace\n",
      "spacewalker: Use virtual monitors with Viture XR glasses\n",
      "stillcolor: Tool to disable temporal dithering on Apple Silicon Macs\n",
      "studio-3t-community: IDE, client, and GUI for MongoDB\n",
      "suspicious-package@preview: Application for inspecting installer packages\n",
      "swama: Machine-learning runtime\n",
      "systhist: Lists full system and security update installation history\n",
      "teleport-suite@17: Modern SSH server for teams managing distributed infrastructure\n",
      "textgrabber2: Menu bar app that detects text from copied images\n",
      "thebrowsercompany-dia: Web browser\n",
      "tiny-shield: Control and monitor network connections\n",
      "tng-digital-mini-program-studio: IDE for building mini programs\n",
      "uefitool: UEFI firmware image viewer\n",
      "vibemeter: Menu bar app to monitor AI spending\n",
      "vibetunnel: Turn any browser into your terminal\n",
      "voicenotes: AI-powered app for recording, transcribing and summarising voice notes\n",
      "wiso-steuer-2020: Tax declaration for the fiscal year 2019\n",
      "wiso-steuer-2021: Tax declaration for the fiscal year 2020\n",
      "xppen-pentablet: Universal driver for XPPen drawing tablets and pen displays\n",
      "yuanbao: Tencent AI Assistant with Hunyuan and DeepSeek LLMs\n",
      "\n",
      "You have \u001b[1m28\u001b[0m outdated formulae installed.\n",
      "\n",
      "git 2.48.1 is already installed but outdated (so it will be upgraded).\n",
      "\u001b[32m==>\u001b[0m \u001b[1mFetching downloads for: \u001b[32mgit\u001b[39m\u001b[0m\n",
      "\u001b[34m==>\u001b[0m \u001b[1mDownloading https://ghcr.io/v2/homebrew/core/git/manifests/2.50.1\u001b[0m\n",
      "######################################################################### 100.0%\n",
      "\u001b[32m==>\u001b[0m \u001b[1mFetching dependencies for git: \u001b[32mgettext\u001b[39m and \u001b[32mpcre2\u001b[39m\u001b[0m\n",
      "\u001b[34m==>\u001b[0m \u001b[1mDownloading https://ghcr.io/v2/homebrew/core/gettext/manifests/0.26\u001b[0m\n",
      "######################################################################### 100.0%\n",
      "\u001b[32m==>\u001b[0m \u001b[1mFetching \u001b[32mgettext\u001b[39m\u001b[0m\n",
      "\u001b[34m==>\u001b[0m \u001b[1mDownloading https://ghcr.io/v2/homebrew/core/gettext/blobs/sha256:1615e931a2\u001b[0m\n",
      "######################################################################### 100.0%\n",
      "\u001b[34m==>\u001b[0m \u001b[1mDownloading https://ghcr.io/v2/homebrew/core/pcre2/manifests/10.45\u001b[0m\n",
      "######################################################################### 100.0%\n",
      "\u001b[32m==>\u001b[0m \u001b[1mFetching \u001b[32mpcre2\u001b[39m\u001b[0m\n",
      "\u001b[34m==>\u001b[0m \u001b[1mDownloading https://ghcr.io/v2/homebrew/core/pcre2/blobs/sha256:549a4a79676a\u001b[0m\n",
      "######################################################################### 100.0%\n",
      "\u001b[32m==>\u001b[0m \u001b[1mFetching \u001b[32mgit\u001b[39m\u001b[0m\n",
      "\u001b[34m==>\u001b[0m \u001b[1mDownloading https://ghcr.io/v2/homebrew/core/git/blobs/sha256:adbc479aaa2ab4\u001b[0m\n",
      "######################################################################### 100.0%\n",
      "\u001b[32m==>\u001b[0m \u001b[1mUpgrading \u001b[32mgit\u001b[39m\u001b[0m\n",
      "  2.48.1 -> 2.50.1 \n",
      "\u001b[32m==>\u001b[0m \u001b[1mInstalling dependencies for git: \u001b[32mgettext\u001b[39m and \u001b[32mpcre2\u001b[39m\u001b[0m\n",
      "\u001b[32m==>\u001b[0m \u001b[1mInstalling git dependency: \u001b[32mgettext\u001b[39m\u001b[0m\n",
      "\u001b[34m==>\u001b[0m \u001b[1mDownloading https://ghcr.io/v2/homebrew/core/gettext/manifests/0.26\u001b[0m\n",
      "Already downloaded: /Users/isha/Library/Caches/Homebrew/downloads/d28158ffec04fae757cdbeb46750e8e2ed43b7b17ada49d72a5bda2cff4cd6ed--gettext-0.26.bottle_manifest.json\n",
      "\u001b[34m==>\u001b[0m \u001b[1mPouring gettext--0.26.arm64_sonoma.bottle.tar.gz\u001b[0m\n",
      "🍺  /opt/homebrew/Cellar/gettext/0.26: 2,428 files, 28.3MB\n",
      "\u001b[32m==>\u001b[0m \u001b[1mInstalling git dependency: \u001b[32mpcre2\u001b[39m\u001b[0m\n",
      "\u001b[34m==>\u001b[0m \u001b[1mDownloading https://ghcr.io/v2/homebrew/core/pcre2/manifests/10.45\u001b[0m\n",
      "Already downloaded: /Users/isha/Library/Caches/Homebrew/downloads/bbac938545583185faba88567f1a952d7cc0b825820a2980533f7b3550dc31ad--pcre2-10.45.bottle_manifest.json\n",
      "\u001b[34m==>\u001b[0m \u001b[1mPouring pcre2--10.45.arm64_sonoma.bottle.tar.gz\u001b[0m\n",
      "🍺  /opt/homebrew/Cellar/pcre2/10.45: 242 files, 6.7MB\n",
      "\u001b[32m==>\u001b[0m \u001b[1mInstalling \u001b[32mgit\u001b[39m\u001b[0m\n",
      "\u001b[34m==>\u001b[0m \u001b[1mPouring git--2.50.1.arm64_sonoma.bottle.tar.gz\u001b[0m\n",
      "\u001b[34m==>\u001b[0m \u001b[1mCaveats\u001b[0m\n",
      "The Tcl/Tk GUIs (e.g. gitk, git-gui) are now in the `git-gui` formula.\n",
      "Subversion interoperability (git-svn) is now in the `git-svn` formula.\n",
      "\u001b[34m==>\u001b[0m \u001b[1mSummary\u001b[0m\n",
      "🍺  /opt/homebrew/Cellar/git/2.50.1: 1,740 files, 55.9MB\n",
      "\u001b[34m==>\u001b[0m \u001b[1mRunning `brew cleanup git`...\u001b[0m\n",
      "Disable this behaviour by setting `HOMEBREW_NO_INSTALL_CLEANUP=1`.\n",
      "Hide these hints with `HOMEBREW_NO_ENV_HINTS=1` (see `man brew`).\n",
      "Removing: /opt/homebrew/Cellar/git/2.48.1... (1,699 files, 54.8MB)\n",
      "Removing: /Users/isha/Library/Caches/Homebrew/git_bottle_manifest--2.48.1... (14.9KB)\n",
      "Removing: /Users/isha/Library/Caches/Homebrew/git--2.48.1... (19.4MB)\n",
      "\u001b[34m==>\u001b[0m \u001b[1mNo outdated dependents to upgrade!\u001b[0m\n",
      "\u001b[32m==>\u001b[0m \u001b[1m`brew cleanup` has not been run in the last 30 days, running now...\u001b[0m\n",
      "Disable this behaviour by setting `HOMEBREW_NO_INSTALL_CLEANUP=1`.\n",
      "Hide these hints with `HOMEBREW_NO_ENV_HINTS=1` (see `man brew`).\n",
      "Removing: /Users/isha/Library/Caches/Homebrew/c-ares_bottle_manifest--1.34.4... (7.3KB)\n",
      "Removing: /Users/isha/Library/Caches/Homebrew/c-ares--1.34.4... (295.8KB)\n",
      "Removing: /Users/isha/Library/Caches/Homebrew/ca-certificates_bottle_manifest--2024-12-31... (1.9KB)\n",
      "Removing: /Users/isha/Library/Caches/Homebrew/ca-certificates--2024-12-31... (130.5KB)\n",
      "Removing: /Users/isha/Library/Caches/Homebrew/certifi_bottle_manifest--2025.1.31... (2.1KB)\n",
      "Removing: /Users/isha/Library/Caches/Homebrew/certifi--2025.1.31... (5.1KB)\n",
      "Removing: /Users/isha/Library/Caches/Homebrew/expat_bottle_manifest--2.6.4... (7.2KB)\n",
      "Removing: /Users/isha/Library/Caches/Homebrew/expat--2.6.4... (211.4KB)\n",
      "Removing: /opt/homebrew/Cellar/gettext/0.24... (2,189 files, 19.9MB)\n",
      "Removing: /Users/isha/Library/Caches/Homebrew/gettext_bottle_manifest--0.24... (12.1KB)\n",
      "Removing: /Users/isha/Library/Caches/Homebrew/gettext--0.24... (8.1MB)\n",
      "Removing: /Users/isha/Library/Caches/Homebrew/heroku_bottle_manifest--10.2.0... (57KB)\n",
      "Removing: /Users/isha/Library/Caches/Homebrew/heroku--10.2.0... (29.4MB)\n",
      "Removing: /Users/isha/Library/Caches/Homebrew/jupyterlab_bottle_manifest--4.3.5... (32.8KB)\n",
      "Removing: /Users/isha/Library/Caches/Homebrew/jupyterlab--4.3.5... (42.3MB)\n",
      "Removing: /Users/isha/Library/Caches/Homebrew/libunistring_bottle_manifest--1.3... (7KB)\n",
      "Removing: /Users/isha/Library/Caches/Homebrew/libunistring--1.3... (1.7MB)\n",
      "Removing: /Users/isha/Library/Caches/Homebrew/libuv_bottle_manifest--1.50.0... (7KB)\n",
      "Removing: /Users/isha/Library/Caches/Homebrew/libuv--1.50.0... (370.3KB)\n",
      "Removing: /Users/isha/Library/Caches/Homebrew/node_bottle_manifest--23.7.0... (15.7KB)\n",
      "Removing: /Users/isha/Library/Caches/Homebrew/node--23.7.0... (18.5MB)\n",
      "Removing: /Users/isha/Library/Caches/Homebrew/openssl@3_bottle_manifest--3.4.1... (8.9KB)\n",
      "Removing: /Users/isha/Library/Caches/Homebrew/openssl@3--3.4.1... (9.8MB)\n",
      "Removing: /Users/isha/Library/Caches/Homebrew/pandoc_bottle_manifest--3.6.3... (7.4KB)\n",
      "Removing: /Users/isha/Library/Caches/Homebrew/pandoc--3.6.3... (53.5MB)\n",
      "Removing: /opt/homebrew/Cellar/pcre2/10.44... (237 files, 6.3MB)\n",
      "Removing: /Users/isha/Library/Caches/Homebrew/pcre2_bottle_manifest--10.44... (11.4KB)\n",
      "Removing: /Users/isha/Library/Caches/Homebrew/pcre2--10.44... (2MB)\n",
      "Removing: /Users/isha/Library/Caches/Homebrew/pyenv_bottle_manifest--2.5.3... (21.3KB)\n",
      "Removing: /Users/isha/Library/Caches/Homebrew/pyenv--2.5.3... (1.3MB)\n",
      "Removing: /Users/isha/Library/Caches/Homebrew/python@3.12_bottle_manifest--3.12.9... (20.7KB)\n",
      "Removing: /Users/isha/Library/Caches/Homebrew/python@3.13_bottle_manifest--3.13.2... (24.0KB)\n",
      "Removing: /Users/isha/Library/Caches/Homebrew/python@3.13--3.13.2... (15.5MB)\n",
      "Removing: /Users/isha/Library/Caches/Homebrew/render_bottle_manifest--2.1.1... (7.2KB)\n",
      "Removing: /Users/isha/Library/Caches/Homebrew/render--2.1.1... (4.8MB)\n",
      "Removing: /Users/isha/Library/Caches/Homebrew/sqlite_bottle_manifest--3.49.0... (9.5KB)\n",
      "Removing: /Users/isha/Library/Caches/Homebrew/sqlite--3.49.0... (2.2MB)\n",
      "Removing: /Users/isha/Library/Caches/Homebrew/terminal-notifier_bottle_manifest--2.0.0... (12.7KB)\n",
      "Removing: /Users/isha/Library/Caches/Homebrew/terminal-notifier--2.0.0... (361.3KB)\n",
      "Removing: /Users/isha/Library/Caches/Homebrew/virtualenv_bottle_manifest--20.29.2... (14.4KB)\n",
      "Removing: /Users/isha/Library/Caches/Homebrew/xz_bottle_manifest--5.6.4... (10.1KB)\n",
      "Removing: /Users/isha/Library/Caches/Homebrew/xz--5.6.4... (595.0KB)\n",
      "Removing: /Users/isha/Library/Caches/Homebrew/portable-ruby-3.3.7.arm64_big_sur.bottle.tar.gz... (11.2MB)\n",
      "Removing: /Users/isha/Library/Caches/Homebrew/Cask/warp--0.2025.06.04.08.11.stable_01.stable_01... (98.6MB)\n",
      "Removing: /Users/isha/Library/Caches/Homebrew/bootsnap/c800faccc037d02de416d59bfdceff21c49b945e95fd3f5128f4a7acc0496d7a... (557 files, 4.6MB)\n",
      "Removing: /Users/isha/Library/Caches/Homebrew/bootsnap/287d6b13bd97dfce385fd07e3348320940a44056e50552b059ee64db214471b8... (564 files, 4.7MB)\n",
      "\u001b[32m==>\u001b[0m \u001b[1mCaveats\u001b[0m\n",
      "zsh completions and functions have been installed to:\n",
      "  /opt/homebrew/share/zsh/site-functions\n",
      "\u001b[34m==>\u001b[0m \u001b[1mgit\u001b[0m\n",
      "The Tcl/Tk GUIs (e.g. gitk, git-gui) are now in the `git-gui` formula.\n",
      "Subversion interoperability (git-svn) is now in the `git-svn` formula.\n"
     ]
    }
   ],
   "source": [
    "!brew install git"
   ]
  },
  {
   "cell_type": "markdown",
   "metadata": {},
   "source": [
    "## Configure Git"
   ]
  },
  {
   "cell_type": "code",
   "execution_count": 5,
   "metadata": {},
   "outputs": [],
   "source": [
    "!git config --global user.name \"IshaPatro\"\n",
    "!git config --global user.email \"isha.patro.215@gmail.com\""
   ]
  },
  {
   "cell_type": "code",
   "execution_count": 6,
   "metadata": {},
   "outputs": [
    {
     "name": "stdout",
     "output_type": "stream",
     "text": [
      "Cloning into 'bootcamp_isha_patro'...\n",
      "remote: Enumerating objects: 4, done.\u001b[K\n",
      "remote: Counting objects: 100% (4/4), done.\u001b[K\n",
      "remote: Compressing objects: 100% (3/3), done.\u001b[K\n",
      "remote: Total 4 (delta 0), reused 0 (delta 0), pack-reused 0 (from 0)\u001b[K\n",
      "Receiving objects: 100% (4/4), done.\n"
     ]
    }
   ],
   "source": [
    "!git clone https://github.com/IshaPatro/bootcamp_isha_patro.git\n",
    "!cd bootcamp_isha_patro"
   ]
  },
  {
   "cell_type": "code",
   "execution_count": 7,
   "metadata": {},
   "outputs": [
    {
     "name": "stdout",
     "output_type": "stream",
     "text": [
      "mkdir: homework: File exists\n"
     ]
    }
   ],
   "source": [
    "!mkdir homework\n",
    "!mkdir project\n",
    "!mkdir class_materials\n",
    "!mkdir homework\n",
    "!cd homework\n",
    "!mkdir homework/homework0\n",
    "!cp /Users/your-username/Documents/example.txt homework0/"
   ]
  },
  {
   "cell_type": "markdown",
   "metadata": {},
   "source": [
    "# Rest"
   ]
  },
  {
   "cell_type": "markdown",
   "metadata": {},
   "source": [
    "### Repo Setup"
   ]
  },
  {
   "cell_type": "code",
   "execution_count": 3,
   "metadata": {},
   "outputs": [],
   "source": [
    "import os, textwrap, pathlib, sys\n",
    "### git repo setup - location, readme file###"
   ]
  },
  {
   "cell_type": "markdown",
   "metadata": {},
   "source": [
    "##### Homework\n",
    "Create repo about the bootcamp and push it to git \n"
   ]
  },
  {
   "cell_type": "code",
   "execution_count": 1,
   "metadata": {},
   "outputs": [
    {
     "name": "stdout",
     "output_type": "stream",
     "text": [
      "Requirement already satisfied: ipykernel in /Users/isha/.pyenv/versions/3.10.10/lib/python3.10/site-packages (6.29.4)\n",
      "Requirement already satisfied: appnope in /Users/isha/.pyenv/versions/3.10.10/lib/python3.10/site-packages (from ipykernel) (0.1.4)\n",
      "Requirement already satisfied: comm>=0.1.1 in /Users/isha/.pyenv/versions/3.10.10/lib/python3.10/site-packages (from ipykernel) (0.2.2)\n",
      "Requirement already satisfied: debugpy>=1.6.5 in /Users/isha/.pyenv/versions/3.10.10/lib/python3.10/site-packages (from ipykernel) (1.8.1)\n",
      "Requirement already satisfied: ipython>=7.23.1 in /Users/isha/.pyenv/versions/3.10.10/lib/python3.10/site-packages (from ipykernel) (8.25.0)\n",
      "Requirement already satisfied: jupyter-client>=6.1.12 in /Users/isha/.pyenv/versions/3.10.10/lib/python3.10/site-packages (from ipykernel) (8.6.2)\n",
      "Requirement already satisfied: jupyter-core!=5.0.*,>=4.12 in /Users/isha/.pyenv/versions/3.10.10/lib/python3.10/site-packages (from ipykernel) (5.7.2)\n",
      "Requirement already satisfied: matplotlib-inline>=0.1 in /Users/isha/.pyenv/versions/3.10.10/lib/python3.10/site-packages (from ipykernel) (0.1.7)\n",
      "Requirement already satisfied: nest-asyncio in /Users/isha/.pyenv/versions/3.10.10/lib/python3.10/site-packages (from ipykernel) (1.6.0)\n",
      "Requirement already satisfied: packaging in /Users/isha/.pyenv/versions/3.10.10/lib/python3.10/site-packages (from ipykernel) (23.2)\n",
      "Requirement already satisfied: psutil in /Users/isha/.pyenv/versions/3.10.10/lib/python3.10/site-packages (from ipykernel) (6.0.0)\n",
      "Requirement already satisfied: pyzmq>=24 in /Users/isha/.pyenv/versions/3.10.10/lib/python3.10/site-packages (from ipykernel) (26.0.3)\n",
      "Requirement already satisfied: tornado>=6.1 in /Users/isha/.pyenv/versions/3.10.10/lib/python3.10/site-packages (from ipykernel) (6.4.1)\n",
      "Requirement already satisfied: traitlets>=5.4.0 in /Users/isha/.pyenv/versions/3.10.10/lib/python3.10/site-packages (from ipykernel) (5.14.3)\n",
      "Requirement already satisfied: decorator in /Users/isha/.pyenv/versions/3.10.10/lib/python3.10/site-packages (from ipython>=7.23.1->ipykernel) (5.1.1)\n",
      "Requirement already satisfied: jedi>=0.16 in /Users/isha/.pyenv/versions/3.10.10/lib/python3.10/site-packages (from ipython>=7.23.1->ipykernel) (0.19.1)\n",
      "Requirement already satisfied: prompt-toolkit<3.1.0,>=3.0.41 in /Users/isha/.pyenv/versions/3.10.10/lib/python3.10/site-packages (from ipython>=7.23.1->ipykernel) (3.0.47)\n",
      "Requirement already satisfied: pygments>=2.4.0 in /Users/isha/.pyenv/versions/3.10.10/lib/python3.10/site-packages (from ipython>=7.23.1->ipykernel) (2.18.0)\n",
      "Requirement already satisfied: stack-data in /Users/isha/.pyenv/versions/3.10.10/lib/python3.10/site-packages (from ipython>=7.23.1->ipykernel) (0.6.3)\n",
      "Requirement already satisfied: exceptiongroup in /Users/isha/.pyenv/versions/3.10.10/lib/python3.10/site-packages (from ipython>=7.23.1->ipykernel) (1.2.1)\n",
      "Requirement already satisfied: typing-extensions>=4.6 in /Users/isha/.pyenv/versions/3.10.10/lib/python3.10/site-packages (from ipython>=7.23.1->ipykernel) (4.12.2)\n",
      "Requirement already satisfied: pexpect>4.3 in /Users/isha/.pyenv/versions/3.10.10/lib/python3.10/site-packages (from ipython>=7.23.1->ipykernel) (4.9.0)\n",
      "Requirement already satisfied: python-dateutil>=2.8.2 in /Users/isha/.pyenv/versions/3.10.10/lib/python3.10/site-packages (from jupyter-client>=6.1.12->ipykernel) (2.9.0.post0)\n",
      "Requirement already satisfied: platformdirs>=2.5 in /Users/isha/.pyenv/versions/3.10.10/lib/python3.10/site-packages (from jupyter-core!=5.0.*,>=4.12->ipykernel) (4.2.2)\n",
      "Requirement already satisfied: parso<0.9.0,>=0.8.3 in /Users/isha/.pyenv/versions/3.10.10/lib/python3.10/site-packages (from jedi>=0.16->ipython>=7.23.1->ipykernel) (0.8.4)\n",
      "Requirement already satisfied: ptyprocess>=0.5 in /Users/isha/.pyenv/versions/3.10.10/lib/python3.10/site-packages (from pexpect>4.3->ipython>=7.23.1->ipykernel) (0.7.0)\n",
      "Requirement already satisfied: wcwidth in /Users/isha/.pyenv/versions/3.10.10/lib/python3.10/site-packages (from prompt-toolkit<3.1.0,>=3.0.41->ipython>=7.23.1->ipykernel) (0.2.13)\n",
      "Requirement already satisfied: six>=1.5 in /Users/isha/.pyenv/versions/3.10.10/lib/python3.10/site-packages (from python-dateutil>=2.8.2->jupyter-client>=6.1.12->ipykernel) (1.16.0)\n",
      "Requirement already satisfied: executing>=1.2.0 in /Users/isha/.pyenv/versions/3.10.10/lib/python3.10/site-packages (from stack-data->ipython>=7.23.1->ipykernel) (2.0.1)\n",
      "Requirement already satisfied: asttokens>=2.1.0 in /Users/isha/.pyenv/versions/3.10.10/lib/python3.10/site-packages (from stack-data->ipython>=7.23.1->ipykernel) (2.4.1)\n",
      "Requirement already satisfied: pure-eval in /Users/isha/.pyenv/versions/3.10.10/lib/python3.10/site-packages (from stack-data->ipython>=7.23.1->ipykernel) (0.2.2)\n",
      "\n",
      "\u001b[1m[\u001b[0m\u001b[34;49mnotice\u001b[0m\u001b[1;39;49m]\u001b[0m\u001b[39;49m A new release of pip is available: \u001b[0m\u001b[31;49m25.0.1\u001b[0m\u001b[39;49m -> \u001b[0m\u001b[32;49m25.2\u001b[0m\n",
      "\u001b[1m[\u001b[0m\u001b[34;49mnotice\u001b[0m\u001b[1;39;49m]\u001b[0m\u001b[39;49m To update, run: \u001b[0m\u001b[32;49mpip install --upgrade pip\u001b[0m\n",
      "Note: you may need to restart the kernel to use updated packages.\n"
     ]
    },
    {
     "name": "stderr",
     "output_type": "stream",
     "text": [
      "UsageError: Line magic function `%python` not found (But cell magic `%%python` exists, did you mean that instead?).\n"
     ]
    }
   ],
   "source": [
    "%pip install ipykernel\n",
    "%python -m ipykernel install --user --name=myenv --display-name \"Python (venv)\"\n",
    "\n",
    "%python3 -m venv venv\n",
    "%source venv/bin/activate"
   ]
  },
  {
   "cell_type": "code",
   "execution_count": 4,
   "metadata": {},
   "outputs": [
    {
     "data": {
      "text/plain": [
       "'3.10.10 (main, Jun 15 2024, 15:22:07) [Clang 13.1.6 (clang-1316.0.21.2.5)]'"
      ]
     },
     "execution_count": 4,
     "metadata": {},
     "output_type": "execute_result"
    }
   ],
   "source": [
    "sys.version"
   ]
  },
  {
   "cell_type": "code",
   "execution_count": 5,
   "metadata": {},
   "outputs": [
    {
     "data": {
      "text/plain": [
       "'/Users/isha/.pyenv/versions/3.10.10/bin/python'"
      ]
     },
     "execution_count": 5,
     "metadata": {},
     "output_type": "execute_result"
    }
   ],
   "source": [
    "sys.executable"
   ]
  },
  {
   "cell_type": "markdown",
   "metadata": {},
   "source": [
    "#### Imports"
   ]
  },
  {
   "cell_type": "markdown",
   "metadata": {},
   "source": [
    "Write import statements in try catch"
   ]
  },
  {
   "cell_type": "markdown",
   "metadata": {},
   "source": [
    "setup venv"
   ]
  },
  {
   "cell_type": "markdown",
   "metadata": {},
   "source": [
    "run git commands from terminal"
   ]
  },
  {
   "cell_type": "markdown",
   "metadata": {},
   "source": []
  }
 ],
 "metadata": {
  "kernelspec": {
   "display_name": "Python (bootcamp_env)",
   "language": "python",
   "name": "bootcamp_env"
  },
  "language_info": {
   "codemirror_mode": {
    "name": "ipython",
    "version": 3
   },
   "file_extension": ".py",
   "mimetype": "text/x-python",
   "name": "python",
   "nbconvert_exporter": "python",
   "pygments_lexer": "ipython3",
   "version": "3.10.10"
  }
 },
 "nbformat": 4,
 "nbformat_minor": 2
}
