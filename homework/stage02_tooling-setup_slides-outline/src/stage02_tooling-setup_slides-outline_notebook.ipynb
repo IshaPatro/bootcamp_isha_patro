{
  "cells": [
    {
      "cell_type": "markdown",
      "metadata": {},
      "source": [
        "# Stage 02: Tooling Setup and Slides Outline\n",
        "\n",
        "This notebook contains exercises and solutions for the tooling setup and slides outline stage of the bootcamp.\n"
      ]
    },
    {
      "cell_type": "code",
      "execution_count": null,
      "metadata": {},
      "outputs": [],
      "source": [
        "!python -m venv bootcamp_env\n"
      ]
    },
    {
      "cell_type": "code",
      "execution_count": null,
      "metadata": {},
      "outputs": [],
      "source": [
        "!source bootcamp_env/bin/activate && pip install python-dotenv numpy jupyter\n"
      ]
    }
  ],
  "metadata": {
    "language_info": {
      "name": "python"
    }
  },
  "nbformat": 4,
  "nbformat_minor": 2
}
