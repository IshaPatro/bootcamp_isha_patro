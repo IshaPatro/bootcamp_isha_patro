{
  "cells": [
    {
      "cell_type": "markdown",
      "metadata": {},
      "source": [
        "# Stage 01: Problem Framing and Scoping\n",
        "\n",
        "This notebook contains exercises and solutions for the problem framing and scoping stage of the bootcamp.\n"
      ]
    }
  ],
  "metadata": {
    "language_info": {
      "name": "python"
    }
  },
  "nbformat": 4,
  "nbformat_minor": 2
}
