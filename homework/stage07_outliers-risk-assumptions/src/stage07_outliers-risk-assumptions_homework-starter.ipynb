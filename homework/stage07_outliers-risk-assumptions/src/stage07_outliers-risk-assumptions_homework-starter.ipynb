{
  "cells": [
    {
      "cell_type": "markdown",
      "id": "3848df1c",
      "metadata": {},
      "source": [
        "# Setup: Generate Sample Dataset\n",
        "\n",
        "This cell creates the required folder structure (`data/raw/` and `data/processed/`) relative to the notebook, and generates the sample CSV dataset with missing values. \n",
        "This ensures the dataset is ready for cleaning functions and saves it to `data/raw/outliers_homework.csv`."
      ]
    },
    {
      "cell_type": "code",
      "execution_count": 12,
      "id": "6c50b376",
      "metadata": {},
      "outputs": [
        {
          "name": "stdout",
          "output_type": "stream",
          "text": [
            "File already exists at ../data/raw/outliers_homework.csv. Skipping CSV creation to avoid overwrite.\n"
          ]
        }
      ],
      "source": [
        "import os\n",
        "import numpy as np\n",
        "import pandas as pd\n",
        "\n",
        "# Define folder paths relative to this notebook\n",
        "raw_dir = '../data/raw'\n",
        "processed_dir = '../data/processed'\n",
        "\n",
        "# Create folders if they don't exist\n",
        "os.makedirs(raw_dir, exist_ok=True)\n",
        "os.makedirs(processed_dir, exist_ok=True)\n",
        "\n",
        "# Generate business day dates\n",
        "dates = pd.date_range(start=\"2022-01-03\", end=\"2022-06-10\", freq=\"B\")\n",
        "\n",
        "# Fixed random seed for reproducibility\n",
        "np.random.seed(17)\n",
        "\n",
        "# Column 1: daily_return ~ N(0, 0.01)\n",
        "returns = np.random.normal(0, 0.01, size=len(dates))\n",
        "mask_pre_may = dates < \"2022-05-01\"\n",
        "returns[mask_pre_may] -= 0.0015  \n",
        "\n",
        "# Inject \"shock\" values\n",
        "shock_values = {\n",
        "    \"2022-05-02\": 0.1748425237194541,\n",
        "    \"2022-05-03\": -0.16825801732486943,\n",
        "    \"2022-05-06\": -0.19667220757153227,\n",
        "    \"2022-05-09\": 0.21240223590614747,\n",
        "    \"2022-05-12\": -0.178729287231294\n",
        "}\n",
        "for d, v in shock_values.items():\n",
        "    idx = np.where(dates == pd.to_datetime(d))[0][0]\n",
        "    returns[idx] = v\n",
        "\n",
        "# Column 2: daily_return_2, correlated with daily_return + small noise\n",
        "daily_return_2 = returns * 0.6 + np.random.normal(0, 0.005, size=len(dates))\n",
        "\n",
        "# Create DataFrame with two numeric columns\n",
        "df = pd.DataFrame({\n",
        "    \"date\": dates,\n",
        "    \"daily_return\": returns,\n",
        "    \"daily_return_2\": daily_return_2\n",
        "})\n",
        "\n",
        "# Save to CSV in raw data folder\n",
        "csv_path = os.path.join(raw_dir, 'outliers_homework.csv')\n",
        "if not os.path.exists(csv_path):\n",
        "    df.to_csv(csv_path, index=False)\n",
        "    print(f'Synthetic dataset with two columns created and saved to {csv_path}')\n",
        "else:\n",
        "    print(f'File already exists at {csv_path}. Skipping CSV creation to avoid overwrite.')"
      ]
    },
    {
      "cell_type": "markdown",
      "metadata": {},
      "source": [
        "# Stage 7 Homework — Outliers + Risk Assumptions\n",
        "In this assignment you will implement outlier detection/handling and run a simple sensitivity analysis.\n",
        "\n",
        "**Chain:** In the lecture, we learned detection (IQR, Z-score), options for handling (remove/winsorize), and sensitivity testing. Now, you will adapt those methods to a provided dataset and document the risks and assumptions behind your choices."
      ]
    },
    {
      "cell_type": "markdown",
      "id": "18798b41",
      "metadata": {},
      "source": [
        "## Data Visualization: Complete Dataset Analysis\n"
      ]
    },
    {
      "cell_type": "code",
      "execution_count": null,
      "id": "82aff2ef",
      "metadata": {},
      "outputs": [],
      "source": [
        "import matplotlib.pyplot as plt\n",
        "import seaborn as sns\n",
        "from datetime import datetime\n",
        "\n",
        "# Load the data\n",
        "df = pd.read_csv('../data/raw/outliers_homework.csv')\n",
        "df['date'] = pd.to_datetime(df['date'])\n",
        "\n",
        "print(\"Dataset Overview:\")\n",
        "print(f\"Shape: {df.shape}\")\n",
        "print(f\"Date range: {df['date'].min()} to {df['date'].max()}\")\n",
        "print(f\"Total trading days: {len(df)}\")\n",
        "print(\"\\nFirst few rows:\")\n",
        "print(df.head())\n"
      ]
    },
    {
      "cell_type": "code",
      "execution_count": null,
      "id": "af0c7317",
      "metadata": {},
      "outputs": [],
      "source": [
        "# Create comprehensive visualization with all data points\n",
        "plt.style.use('seaborn-v0_8')\n",
        "fig, axes = plt.subplots(2, 2, figsize=(16, 12))\n",
        "\n",
        "# 1. Time Series Plot - Both Returns Over Time\n",
        "axes[0,0].plot(df['date'], df['daily_return'], label='Daily Return 1', alpha=0.8, linewidth=1.2, color='steelblue')\n",
        "axes[0,0].plot(df['date'], df['daily_return_2'], label='Daily Return 2', alpha=0.8, linewidth=1.2, color='coral')\n",
        "axes[0,0].set_title('Time Series: Daily Returns (All Data Points)', fontsize=14, fontweight='bold')\n",
        "axes[0,0].set_xlabel('Date')\n",
        "axes[0,0].set_ylabel('Daily Return')\n",
        "axes[0,0].legend()\n",
        "axes[0,0].grid(True, alpha=0.3)\n",
        "axes[0,0].tick_params(axis='x', rotation=45)\n",
        "\n",
        "# Highlight potential outliers (shock periods in May 2022)\n",
        "shock_dates = ['2022-05-02', '2022-05-03', '2022-05-06', '2022-05-09', '2022-05-12']\n",
        "for shock_date in shock_dates:\n",
        "    shock_mask = df['date'] == pd.to_datetime(shock_date)\n",
        "    if shock_mask.any():\n",
        "        axes[0,0].scatter(df.loc[shock_mask, 'date'], df.loc[shock_mask, 'daily_return'], \n",
        "                         color='red', s=80, alpha=0.8, zorder=5)\n",
        "\n",
        "# 2. Scatter Plot - Correlation Between Returns\n",
        "axes[0,1].scatter(df['daily_return'], df['daily_return_2'], alpha=0.6, s=30, color='darkgreen')\n",
        "axes[0,1].set_title('Scatter Plot: Return 1 vs Return 2 Correlation', fontsize=14, fontweight='bold')\n",
        "axes[0,1].set_xlabel('Daily Return 1')\n",
        "axes[0,1].set_ylabel('Daily Return 2')\n",
        "axes[0,1].grid(True, alpha=0.3)\n",
        "\n",
        "# Add correlation coefficient\n",
        "correlation = df['daily_return'].corr(df['daily_return_2'])\n",
        "axes[0,1].text(0.05, 0.95, f'Correlation: {correlation:.3f}', \n",
        "               transform=axes[0,1].transAxes, fontsize=12, \n",
        "               bbox=dict(boxstyle=\"round\", facecolor='wheat', alpha=0.8))\n",
        "\n",
        "# 3. Distribution Histograms\n",
        "axes[1,0].hist(df['daily_return'], bins=30, alpha=0.7, label='Daily Return 1', color='steelblue', density=True)\n",
        "axes[1,0].hist(df['daily_return_2'], bins=30, alpha=0.7, label='Daily Return 2', color='coral', density=True)\n",
        "axes[1,0].set_title('Distribution of Daily Returns', fontsize=14, fontweight='bold')\n",
        "axes[1,0].set_xlabel('Return Value')\n",
        "axes[1,0].set_ylabel('Density')\n",
        "axes[1,0].legend()\n",
        "axes[1,0].grid(True, alpha=0.3)\n",
        "\n",
        "# 4. Box Plots for Outlier Detection\n",
        "box_data = [df['daily_return'], df['daily_return_2']]\n",
        "box_plot = axes[1,1].boxplot(box_data, labels=['Daily Return 1', 'Daily Return 2'], patch_artist=True)\n",
        "axes[1,1].set_title('Box Plots: Outlier Detection', fontsize=14, fontweight='bold')\n",
        "axes[1,1].set_ylabel('Return Value')\n",
        "axes[1,1].grid(True, alpha=0.3)\n",
        "\n",
        "# Color the box plots\n",
        "colors = ['lightblue', 'lightcoral']\n",
        "for patch, color in zip(box_plot['boxes'], colors):\n",
        "    patch.set_facecolor(color)\n",
        "\n",
        "plt.tight_layout()\n",
        "plt.savefig('../data/processed/complete_data_analysis.png', dpi=300, bbox_inches='tight')\n",
        "plt.show()\n",
        "\n",
        "# Print summary statistics\n",
        "print(\"\\n\" + \"=\"*60)\n",
        "print(\"COMPLETE DATASET STATISTICS\")\n",
        "print(\"=\"*60)\n",
        "print(\"\\nDaily Return 1:\")\n",
        "print(df['daily_return'].describe())\n",
        "print(\"\\nDaily Return 2:\")\n",
        "print(df['daily_return_2'].describe())\n"
      ]
    },
    {
      "cell_type": "code",
      "execution_count": null,
      "id": "66b86baf",
      "metadata": {},
      "outputs": [],
      "source": [
        "# Additional Analysis: Individual Data Point Patterns\n",
        "fig, axes = plt.subplots(3, 1, figsize=(15, 12))\n",
        "\n",
        "# 1. Rolling Statistics to Show Data Patterns\n",
        "window = 10\n",
        "df['rolling_mean_1'] = df['daily_return'].rolling(window=window).mean()\n",
        "df['rolling_std_1'] = df['daily_return'].rolling(window=window).std()\n",
        "\n",
        "axes[0].plot(df['date'], df['daily_return'], 'o-', alpha=0.6, markersize=3, label='Daily Returns', color='navy')\n",
        "axes[0].plot(df['date'], df['rolling_mean_1'], '-', linewidth=2, label=f'{window}-Day Rolling Mean', color='red')\n",
        "axes[0].fill_between(df['date'], \n",
        "                     df['rolling_mean_1'] - 2*df['rolling_std_1'], \n",
        "                     df['rolling_mean_1'] + 2*df['rolling_std_1'], \n",
        "                     alpha=0.2, color='red', label='±2σ Band')\n",
        "axes[0].set_title('Daily Returns with Rolling Statistics (All 116 Data Points)', fontsize=14, fontweight='bold')\n",
        "axes[0].set_ylabel('Daily Return')\n",
        "axes[0].legend()\n",
        "axes[0].grid(True, alpha=0.3)\n",
        "axes[0].tick_params(axis='x', rotation=45)\n",
        "\n",
        "# 2. Cumulative Returns to Show Overall Trend\n",
        "df['cumulative_return_1'] = (1 + df['daily_return']).cumprod() - 1\n",
        "df['cumulative_return_2'] = (1 + df['daily_return_2']).cumprod() - 1\n",
        "\n",
        "axes[1].plot(df['date'], df['cumulative_return_1'], '-', linewidth=2, label='Cumulative Return 1', color='darkblue')\n",
        "axes[1].plot(df['date'], df['cumulative_return_2'], '-', linewidth=2, label='Cumulative Return 2', color='darkorange')\n",
        "axes[1].set_title('Cumulative Returns Over Time (Impact of All Data Points)', fontsize=14, fontweight='bold')\n",
        "axes[1].set_ylabel('Cumulative Return')\n",
        "axes[1].legend()\n",
        "axes[1].grid(True, alpha=0.3)\n",
        "axes[1].tick_params(axis='x', rotation=45)\n",
        "\n",
        "# 3. Volatility Analysis (30-day rolling)\n",
        "df['volatility'] = df['daily_return'].rolling(window=20).std() * np.sqrt(252)  # Annualized volatility\n",
        "\n",
        "axes[2].plot(df['date'], df['volatility'], '-', linewidth=2, color='purple', alpha=0.8)\n",
        "axes[2].fill_between(df['date'], 0, df['volatility'], alpha=0.3, color='purple')\n",
        "axes[2].set_title('Rolling 20-Day Annualized Volatility', fontsize=14, fontweight='bold')\n",
        "axes[2].set_xlabel('Date')\n",
        "axes[2].set_ylabel('Annualized Volatility')\n",
        "axes[2].grid(True, alpha=0.3)\n",
        "axes[2].tick_params(axis='x', rotation=45)\n",
        "\n",
        "plt.tight_layout()\n",
        "plt.savefig('../data/processed/detailed_data_analysis.png', dpi=300, bbox_inches='tight')\n",
        "plt.show()\n",
        "\n",
        "# Data Point Analysis Summary\n",
        "print(\"\\n\" + \"=\"*60)\n",
        "print(\"INDIVIDUAL DATA POINT ANALYSIS\")\n",
        "print(\"=\"*60)\n",
        "print(f\"Total data points analyzed: {len(df)}\")\n",
        "print(f\"Date range: {df['date'].min().strftime('%Y-%m-%d')} to {df['date'].max().strftime('%Y-%m-%d')}\")\n",
        "print(f\"Business days covered: {len(df)} trading days\")\n",
        "\n",
        "# Identify extreme values\n",
        "extreme_positive = df.nlargest(5, 'daily_return')[['date', 'daily_return', 'daily_return_2']]\n",
        "extreme_negative = df.nsmallest(5, 'daily_return')[['date', 'daily_return', 'daily_return_2']]\n",
        "\n",
        "print(\"\\n🔺 TOP 5 HIGHEST RETURNS:\")\n",
        "print(extreme_positive.to_string(index=False))\n",
        "\n",
        "print(\"\\n🔻 TOP 5 LOWEST RETURNS:\")\n",
        "print(extreme_negative.to_string(index=False))\n",
        "\n",
        "# Volatility periods\n",
        "high_vol_periods = df[df['volatility'] > df['volatility'].quantile(0.9)][['date', 'daily_return', 'volatility']].dropna()\n",
        "print(f\"\\n📊 HIGH VOLATILITY PERIODS (Top 10%):\")\n",
        "print(f\"Number of high volatility days: {len(high_vol_periods)}\")\n",
        "if len(high_vol_periods) > 0:\n",
        "    print(\"Sample high volatility days:\")\n",
        "    print(high_vol_periods.head().to_string(index=False))\n"
      ]
    },
    {
      "cell_type": "code",
      "execution_count": null,
      "id": "9125adc2",
      "metadata": {},
      "outputs": [],
      "source": [
        "# Complete Data Table - All 116 Data Points\n",
        "print(\"📋 COMPLETE DATASET TABLE\")\n",
        "print(\"=\"*80)\n",
        "print(\"Showing all data points with additional calculated metrics:\\n\")\n",
        "\n",
        "# Add some derived metrics for each data point\n",
        "df_display = df.copy()\n",
        "df_display['abs_return'] = abs(df_display['daily_return'])\n",
        "df_display['return_category'] = pd.cut(df_display['daily_return'], \n",
        "                                      bins=[-float('inf'), -0.05, -0.01, 0.01, 0.05, float('inf')],\n",
        "                                      labels=['Large Loss', 'Small Loss', 'Neutral', 'Small Gain', 'Large Gain'])\n",
        "\n",
        "# Display first 10 and last 10 rows with key metrics\n",
        "print(\"🔍 FIRST 10 DATA POINTS:\")\n",
        "display_cols = ['date', 'daily_return', 'daily_return_2', 'abs_return', 'return_category']\n",
        "print(df_display[display_cols].head(10).to_string(index=False))\n",
        "\n",
        "print(\"\\n🔍 LAST 10 DATA POINTS:\")\n",
        "print(df_display[display_cols].tail(10).to_string(index=False))\n",
        "\n",
        "# Summary by categories\n",
        "print(f\"\\n📊 DATA POINT CATEGORIZATION (All {len(df)} points):\")\n",
        "category_summary = df_display['return_category'].value_counts().sort_index()\n",
        "for category, count in category_summary.items():\n",
        "    percentage = (count / len(df)) * 100\n",
        "    print(f\"  {category}: {count} days ({percentage:.1f}%)\")\n",
        "\n",
        "# Monthly breakdown\n",
        "df_display['month'] = df_display['date'].dt.strftime('%Y-%m')\n",
        "monthly_stats = df_display.groupby('month').agg({\n",
        "    'daily_return': ['count', 'mean', 'std', 'min', 'max'],\n",
        "    'daily_return_2': 'mean'\n",
        "}).round(4)\n",
        "monthly_stats.columns = ['Days', 'Mean_Return', 'Std_Return', 'Min_Return', 'Max_Return', 'Mean_Return2']\n",
        "\n",
        "print(f\"\\n📅 MONTHLY BREAKDOWN (All data points organized by month):\")\n",
        "print(monthly_stats.to_string())\n",
        "\n",
        "# Save detailed data\n",
        "detailed_output_path = '../data/processed/complete_data_with_analysis.csv'\n",
        "df_display.to_csv(detailed_output_path, index=False)\n",
        "print(f\"\\n💾 Complete dataset with analysis saved to: {detailed_output_path}\")\n",
        "print(f\"   Total data points saved: {len(df_display)}\")\n",
        "print(f\"   Columns included: {', '.join(df_display.columns)}\")\n"
      ]
    },
    {
      "cell_type": "code",
      "execution_count": 21,
      "metadata": {},
      "outputs": [],
      "source": [
        "# Setup\n",
        "import numpy as np\n",
        "import pandas as pd\n",
        "import matplotlib.pyplot as plt\n",
        "from pathlib import Path\n",
        "from sklearn.linear_model import LinearRegression\n",
        "from sklearn.metrics import mean_absolute_error, r2_score\n",
        "np.random.seed(17)"
      ]
    },
    {
      "cell_type": "code",
      "execution_count": null,
      "id": "1b1c47d5",
      "metadata": {},
      "outputs": [],
      "source": []
    },
    {
      "cell_type": "markdown",
      "metadata": {},
      "source": [
        "## Load Data (provided or synthetic fallback)"
      ]
    },
    {
      "cell_type": "code",
      "execution_count": 22,
      "metadata": {},
      "outputs": [
        {
          "data": {
            "text/html": [
              "<div>\n",
              "<style scoped>\n",
              "    .dataframe tbody tr th:only-of-type {\n",
              "        vertical-align: middle;\n",
              "    }\n",
              "\n",
              "    .dataframe tbody tr th {\n",
              "        vertical-align: top;\n",
              "    }\n",
              "\n",
              "    .dataframe thead th {\n",
              "        text-align: right;\n",
              "    }\n",
              "</style>\n",
              "<table border=\"1\" class=\"dataframe\">\n",
              "  <thead>\n",
              "    <tr style=\"text-align: right;\">\n",
              "      <th></th>\n",
              "      <th>x</th>\n",
              "      <th>y</th>\n",
              "    </tr>\n",
              "  </thead>\n",
              "  <tbody>\n",
              "    <tr>\n",
              "      <th>0</th>\n",
              "      <td>0.000000</td>\n",
              "      <td>1.331519</td>\n",
              "    </tr>\n",
              "    <tr>\n",
              "      <th>1</th>\n",
              "      <td>0.050251</td>\n",
              "      <td>-1.115001</td>\n",
              "    </tr>\n",
              "    <tr>\n",
              "      <th>2</th>\n",
              "      <td>0.100503</td>\n",
              "      <td>1.969787</td>\n",
              "    </tr>\n",
              "    <tr>\n",
              "      <th>3</th>\n",
              "      <td>0.150754</td>\n",
              "      <td>2.706032</td>\n",
              "    </tr>\n",
              "    <tr>\n",
              "      <th>4</th>\n",
              "      <td>0.201005</td>\n",
              "      <td>2.686840</td>\n",
              "    </tr>\n",
              "  </tbody>\n",
              "</table>\n",
              "</div>"
            ],
            "text/plain": [
              "          x         y\n",
              "0  0.000000  1.331519\n",
              "1  0.050251 -1.115001\n",
              "2  0.100503  1.969787\n",
              "3  0.150754  2.706032\n",
              "4  0.201005  2.686840"
            ]
          },
          "execution_count": 22,
          "metadata": {},
          "output_type": "execute_result"
        }
      ],
      "source": [
        "data_path = Path('data/raw/outliers_homework.csv')\n",
        "if data_path.exists():\n",
        "    df = pd.read_csv(data_path)\n",
        "else:\n",
        "    # Synthetic fallback: linear trend with noise and a few extremes\n",
        "    x = np.linspace(0, 10, 200)\n",
        "    y = 2.2 * x + 1 + np.random.normal(0, 1.2, size=x.size)\n",
        "    y[10] += 15; y[120] -= 13; y[160] += 18\n",
        "    df = pd.DataFrame({'x': x, 'y': y})\n",
        "df.head()"
      ]
    },
    {
      "cell_type": "code",
      "execution_count": null,
      "id": "1c82aa7b",
      "metadata": {},
      "outputs": [],
      "source": []
    },
    {
      "cell_type": "markdown",
      "metadata": {},
      "source": [
        "## TODO: Implement Outlier Functions (required)"
      ]
    },
    {
      "cell_type": "code",
      "execution_count": 23,
      "metadata": {
        "tags": [
          "grade_required"
        ]
      },
      "outputs": [],
      "source": [
        "def detect_outliers_iqr(series: pd.Series, k: float = 1.5) -> pd.Series:\n",
        "    \"\"\"Return boolean mask for IQR-based outliers.\n",
        "    Assumptions: distribution reasonably summarized by quartiles; k controls strictness.\n",
        "    \"\"\"\n",
        "    q1 = series.quantile(0.25)\n",
        "    q3 = series.quantile(0.75)\n",
        "    iqr = q3 - q1\n",
        "    lower = q1 - k * iqr\n",
        "    upper = q3 + k * iqr\n",
        "    return (series < lower) | (series > upper)\n",
        "\n",
        "def detect_outliers_zscore(series: pd.Series, threshold: float = 3.0) -> pd.Series:\n",
        "    \"\"\"Return boolean mask for Z-score outliers where |z| > threshold.\n",
        "    Assumptions: roughly normal distribution; sensitive to heavy tails.\n",
        "    \"\"\"\n",
        "    mu = series.mean()\n",
        "    sigma = series.std(ddof=0)\n",
        "    z = (series - mu) / (sigma if sigma != 0 else 1.0)\n",
        "    return z.abs() > threshold"
      ]
    },
    {
      "cell_type": "markdown",
      "metadata": {},
      "source": [
        "*(Stretch)* Implement winsorizing (optional)."
      ]
    },
    {
      "cell_type": "code",
      "execution_count": 24,
      "metadata": {
        "tags": [
          "stretch"
        ]
      },
      "outputs": [],
      "source": [
        "def winsorize_series(series: pd.Series, lower: float = 0.05, upper: float = 0.95) -> pd.Series:\n",
        "    lo = series.quantile(lower)\n",
        "    hi = series.quantile(upper)\n",
        "    return series.clip(lower=lo, upper=hi)"
      ]
    },
    {
      "cell_type": "markdown",
      "metadata": {},
      "source": [
        "## Apply Detection and Create Flags (choose a numeric column)"
      ]
    },
    {
      "cell_type": "code",
      "execution_count": 17,
      "metadata": {
        "tags": [
          "grade_required"
        ]
      },
      "outputs": [
        {
          "data": {
            "text/plain": [
              "outlier_iqr    0.005\n",
              "outlier_z      0.005\n",
              "dtype: float64"
            ]
          },
          "execution_count": 17,
          "metadata": {},
          "output_type": "execute_result"
        }
      ],
      "source": [
        "target_col = 'y' if 'y' in df.columns else df.select_dtypes(include=['number']).columns[0]\n",
        "df['outlier_iqr'] = detect_outliers_iqr(df[target_col])\n",
        "df['outlier_z'] = detect_outliers_zscore(df[target_col], threshold=3.0)\n",
        "df[['outlier_iqr', 'outlier_z']].mean()  # fraction flagged"
      ]
    },
    {
      "cell_type": "markdown",
      "metadata": {},
      "source": [
        "### Visual Checks (boxplot / histogram)"
      ]
    },
    {
      "cell_type": "code",
      "execution_count": 18,
      "metadata": {},
      "outputs": [
        {
          "data": {
            "image/png": "[encoded data removed]",
            "text/plain": [
              "<Figure size 640x480 with 1 Axes>"
            ]
          },
          "metadata": {},
          "output_type": "display_data"
        },
        {
          "data": {
            "image/png": "[encoded data removed]",
            "text/plain": [
              "<Figure size 640x480 with 1 Axes>"
            ]
          },
          "metadata": {},
          "output_type": "display_data"
        }
      ],
      "source": [
        "plt.figure()\n",
        "plt.boxplot(df[target_col])\n",
        "plt.title(f'Boxplot: {target_col}')\n",
        "plt.show()\n",
        "\n",
        "plt.figure()\n",
        "plt.hist(df[target_col], bins=30)\n",
        "plt.title(f'Histogram: {target_col}')\n",
        "plt.show()"
      ]
    },
    {
      "cell_type": "markdown",
      "metadata": {},
      "source": [
        "## Sensitivity Analysis\n",
        "Pick one: summary stats or simple linear regression comparing **all vs. filtered** (and optional winsorized)."
      ]
    },
    {
      "cell_type": "code",
      "execution_count": 19,
      "metadata": {
        "tags": [
          "grade_required"
        ]
      },
      "outputs": [
        {
          "data": {
            "text/html": [
              "<div>\n",
              "<style scoped>\n",
              "    .dataframe tbody tr th:only-of-type {\n",
              "        vertical-align: middle;\n",
              "    }\n",
              "\n",
              "    .dataframe tbody tr th {\n",
              "        vertical-align: top;\n",
              "    }\n",
              "\n",
              "    .dataframe thead th {\n",
              "        text-align: right;\n",
              "    }\n",
              "</style>\n",
              "<table border=\"1\" class=\"dataframe\">\n",
              "  <thead>\n",
              "    <tr style=\"text-align: right;\">\n",
              "      <th></th>\n",
              "      <th>all</th>\n",
              "      <th>filtered_iqr</th>\n",
              "      <th>winsorized</th>\n",
              "    </tr>\n",
              "  </thead>\n",
              "  <tbody>\n",
              "    <tr>\n",
              "      <th>mean</th>\n",
              "      <td>12.171936</td>\n",
              "      <td>12.047851</td>\n",
              "      <td>12.119643</td>\n",
              "    </tr>\n",
              "    <tr>\n",
              "      <th>median</th>\n",
              "      <td>12.349663</td>\n",
              "      <td>12.285113</td>\n",
              "      <td>12.349663</td>\n",
              "    </tr>\n",
              "    <tr>\n",
              "      <th>std</th>\n",
              "      <td>6.761378</td>\n",
              "      <td>6.546157</td>\n",
              "      <td>6.386781</td>\n",
              "    </tr>\n",
              "  </tbody>\n",
              "</table>\n",
              "</div>"
            ],
            "text/plain": [
              "              all  filtered_iqr  winsorized\n",
              "mean    12.171936     12.047851   12.119643\n",
              "median  12.349663     12.285113   12.349663\n",
              "std      6.761378      6.546157    6.386781"
            ]
          },
          "execution_count": 19,
          "metadata": {},
          "output_type": "execute_result"
        }
      ],
      "source": [
        "# Option A: Summary stats\n",
        "summ_all = df[target_col].describe()[['mean', '50%', 'std']].rename({'50%': 'median'})\n",
        "summ_filtered = df.loc[~df['outlier_iqr'], target_col].describe()[['mean', '50%', 'std']].rename({'50%': 'median'})\n",
        "summ_w = None\n",
        "if 'winsorize_series' in globals():\n",
        "    w = winsorize_series(df[target_col])\n",
        "    summ_w = w.describe()[['mean', '50%', 'std']].rename({'50%': 'median'})\n",
        "\n",
        "comp = pd.concat(\n",
        "    {\n",
        "        'all': summ_all,\n",
        "        'filtered_iqr': summ_filtered,\n",
        "        **({'winsorized': summ_w} if summ_w is not None else {})\n",
        "    }, axis=1\n",
        ")\n",
        "comp"
      ]
    },
    {
      "cell_type": "code",
      "execution_count": 20,
      "metadata": {
        "tags": [
          "grade_required"
        ]
      },
      "outputs": [],
      "source": [
        "# Option B: Simple regression (if x present)\n",
        "if 'x' in df.columns:\n",
        "    X_all = df[['x']].to_numpy(); y_all = df[target_col].to_numpy()\n",
        "    X_filtered = df.loc[~df['outlier_iqr'], ['x']].to_numpy(); y_filtered = df.loc[~df['outlier_iqr'], target_col].to_numpy()\n",
        "\n",
        "    model_all = LinearRegression().fit(X_all, y_all)\n",
        "    model_flt = LinearRegression().fit(X_filtered, y_filtered)\n",
        "\n",
        "    mae_all = mean_absolute_error(y_all, model_all.predict(X_all))\n",
        "    mae_flt = mean_absolute_error(y_filtered, model_flt.predict(X_filtered))\n",
        "\n",
        "    results = pd.DataFrame({\n",
        "        'slope': [model_all.coef_[0], model_flt.coef_[0]],\n",
        "        'intercept': [model_all.intercept_, model_flt.intercept_],\n",
        "        'r2': [model_all.score(X_all, y_all), model_flt.score(X_filtered, y_filtered)],\n",
        "        'mae': [mae_all, mae_flt]\n",
        "    }, index=['all', 'filtered_iqr'])\n",
        "    results\n",
        "else:\n",
        "    results = None\n",
        "    print(\"No 'x' column; skip regression or engineer features.\")"
      ]
    },
    {
      "cell_type": "markdown",
      "metadata": {},
      "source": [
        "### Reflection (≤ 1 page)\n",
        "- Methods and thresholds used (and why)\n",
        "- Assumptions behind choices\n",
        "- Observed impact on results\n",
        "- Risks if assumptions are wrong (e.g., discarding true events)"
      ]
    },
    {
      "cell_type": "markdown",
      "metadata": {},
      "source": [
        "*Write your reflection here...*"
      ]
    }
  ],
  "metadata": {
    "kernelspec": {
      "display_name": "Python (bootcamp_env)",
      "language": "python",
      "name": "bootcamp_env"
    },
    "language_info": {
      "codemirror_mode": {
        "name": "ipython",
        "version": 3
      },
      "file_extension": ".py",
      "mimetype": "text/x-python",
      "name": "python",
      "nbconvert_exporter": "python",
      "pygments_lexer": "ipython3",
      "version": "3.10.10"
    }
  },
  "nbformat": 4,
  "nbformat_minor": 5
}
