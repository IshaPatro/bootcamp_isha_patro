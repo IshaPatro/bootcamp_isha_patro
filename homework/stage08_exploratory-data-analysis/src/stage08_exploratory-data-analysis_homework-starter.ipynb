{
 "cells": [
  {
   "cell_type": "markdown",
   "metadata": {},
   "source": [
    "# Stage 08 — Exploratory Data Analysis: NASDAQ Time Series\n",
    "\n",
    "This notebook demonstrates comprehensive exploratory data analysis for NASDAQ historical data.\n",
    "\n",
    "## Environment Setup"
   ]
  },
  {
   "cell_type": "code",
   "execution_count": 119,
   "metadata": {},
   "outputs": [],
   "source": [
    "%%capture\n",
    "%pip install -r requirements.txt"
   ]
  },
  {
   "cell_type": "code",
   "execution_count": 120,
   "metadata": {},
   "outputs": [],
   "source": [
    "import pandas as pd\n",
    "import numpy as np\n",
    "import matplotlib.pyplot as plt\n",
    "import seaborn as sns"
   ]
  },
  {
   "cell_type": "markdown",
   "metadata": {},
   "source": [
    "# Load Your NASDAQ Data"
   ]
  },
  {
   "cell_type": "code",
   "execution_count": null,
   "metadata": {},
   "outputs": [
    {
     "data": {
      "text/html": [
       "<div>\n",
       "<style scoped>\n",
       "    .dataframe tbody tr th:only-of-type {\n",
       "        vertical-align: middle;\n",
       "    }\n",
       "\n",
       "    .dataframe tbody tr th {\n",
       "        vertical-align: top;\n",
       "    }\n",
       "\n",
       "    .dataframe thead th {\n",
       "        text-align: right;\n",
       "    }\n",
       "</style>\n",
       "<table border=\"1\" class=\"dataframe\">\n",
       "  <thead>\n",
       "    <tr style=\"text-align: right;\">\n",
       "      <th></th>\n",
       "      <th>Date</th>\n",
       "      <th>Close</th>\n",
       "      <th>Open</th>\n",
       "      <th>High</th>\n",
       "      <th>Low</th>\n",
       "    </tr>\n",
       "  </thead>\n",
       "  <tbody>\n",
       "    <tr>\n",
       "      <th>2516</th>\n",
       "      <td>2015-08-17</td>\n",
       "      <td>5091.70</td>\n",
       "      <td>5032.34</td>\n",
       "      <td>5092.69</td>\n",
       "      <td>5022.42</td>\n",
       "    </tr>\n",
       "    <tr>\n",
       "      <th>2515</th>\n",
       "      <td>2015-08-18</td>\n",
       "      <td>5059.35</td>\n",
       "      <td>5082.17</td>\n",
       "      <td>5085.14</td>\n",
       "      <td>5054.97</td>\n",
       "    </tr>\n",
       "    <tr>\n",
       "      <th>2514</th>\n",
       "      <td>2015-08-19</td>\n",
       "      <td>5019.05</td>\n",
       "      <td>5039.03</td>\n",
       "      <td>5060.93</td>\n",
       "      <td>4992.85</td>\n",
       "    </tr>\n",
       "    <tr>\n",
       "      <th>2513</th>\n",
       "      <td>2015-08-20</td>\n",
       "      <td>4877.49</td>\n",
       "      <td>4973.49</td>\n",
       "      <td>4986.51</td>\n",
       "      <td>4877.49</td>\n",
       "    </tr>\n",
       "    <tr>\n",
       "      <th>2512</th>\n",
       "      <td>2015-08-21</td>\n",
       "      <td>4706.04</td>\n",
       "      <td>4801.04</td>\n",
       "      <td>4856.75</td>\n",
       "      <td>4706.04</td>\n",
       "    </tr>\n",
       "  </tbody>\n",
       "</table>\n",
       "</div>"
      ],
      "text/plain": [
       "           Date    Close     Open     High      Low\n",
       "2516 2015-08-17  5091.70  5032.34  5092.69  5022.42\n",
       "2515 2015-08-18  5059.35  5082.17  5085.14  5054.97\n",
       "2514 2015-08-19  5019.05  5039.03  5060.93  4992.85\n",
       "2513 2015-08-20  4877.49  4973.49  4986.51  4877.49\n",
       "2512 2015-08-21  4706.04  4801.04  4856.75  4706.04"
      ]
     },
     "execution_count": 121,
     "metadata": {},
     "output_type": "execute_result"
    }
   ],
   "source": [
    "df = pd.read_csv('../data/HistoricalData.csv')\n",
    "df.rename(columns={ 'Close/Last': 'Close'}, inplace=True)\n",
    "df['Date'] = pd.to_datetime(df['Date'])\n",
    "df.sort_values(by='Date', ascending=True, inplace=True)\n",
    "df.head(5)"
   ]
  },
  {
   "cell_type": "markdown",
   "metadata": {},
   "source": [
    "# Data Validation"
   ]
  },
  {
   "cell_type": "code",
   "execution_count": 122,
   "metadata": {},
   "outputs": [
    {
     "data": {
      "text/plain": [
       "Date     0\n",
       "Close    0\n",
       "Open     0\n",
       "High     0\n",
       "Low      0\n",
       "dtype: int64"
      ]
     },
     "execution_count": 122,
     "metadata": {},
     "output_type": "execute_result"
    }
   ],
   "source": [
    "df.isnull().sum()"
   ]
  },
  {
   "cell_type": "markdown",
   "metadata": {},
   "source": [
    "Verified the dataset for missing values \\\n",
    "The result shows **0 null values across all columns**, which means the dataset is complete and does not require any imputation or data cleaning for missing entries.  "
   ]
  },
  {
   "cell_type": "code",
   "execution_count": 11,
   "metadata": {},
   "outputs": [
    {
     "data": {
      "text/html": [
       "<div>\n",
       "<style scoped>\n",
       "    .dataframe tbody tr th:only-of-type {\n",
       "        vertical-align: middle;\n",
       "    }\n",
       "\n",
       "    .dataframe tbody tr th {\n",
       "        vertical-align: top;\n",
       "    }\n",
       "\n",
       "    .dataframe thead th {\n",
       "        text-align: right;\n",
       "    }\n",
       "</style>\n",
       "<table border=\"1\" class=\"dataframe\">\n",
       "  <thead>\n",
       "    <tr style=\"text-align: right;\">\n",
       "      <th></th>\n",
       "      <th>date</th>\n",
       "      <th>age</th>\n",
       "      <th>income</th>\n",
       "      <th>transactions</th>\n",
       "      <th>spend</th>\n",
       "    </tr>\n",
       "  </thead>\n",
       "  <tbody>\n",
       "    <tr>\n",
       "      <th>count</th>\n",
       "      <td>160</td>\n",
       "      <td>160.000000</td>\n",
       "      <td>155.000000</td>\n",
       "      <td>160.00000</td>\n",
       "      <td>157.000000</td>\n",
       "    </tr>\n",
       "    <tr>\n",
       "      <th>mean</th>\n",
       "      <td>2021-04-21 12:00:00</td>\n",
       "      <td>40.018750</td>\n",
       "      <td>41983.866323</td>\n",
       "      <td>3.23750</td>\n",
       "      <td>117.291592</td>\n",
       "    </tr>\n",
       "    <tr>\n",
       "      <th>min</th>\n",
       "      <td>2021-02-01 00:00:00</td>\n",
       "      <td>22.000000</td>\n",
       "      <td>17928.800000</td>\n",
       "      <td>0.00000</td>\n",
       "      <td>0.540000</td>\n",
       "    </tr>\n",
       "    <tr>\n",
       "      <th>25%</th>\n",
       "      <td>2021-03-12 18:00:00</td>\n",
       "      <td>34.700000</td>\n",
       "      <td>32471.530000</td>\n",
       "      <td>2.00000</td>\n",
       "      <td>77.250000</td>\n",
       "    </tr>\n",
       "    <tr>\n",
       "      <th>50%</th>\n",
       "      <td>2021-04-21 12:00:00</td>\n",
       "      <td>40.150000</td>\n",
       "      <td>39332.520000</td>\n",
       "      <td>3.00000</td>\n",
       "      <td>119.320000</td>\n",
       "    </tr>\n",
       "    <tr>\n",
       "      <th>75%</th>\n",
       "      <td>2021-05-31 06:00:00</td>\n",
       "      <td>44.925000</td>\n",
       "      <td>49697.690000</td>\n",
       "      <td>4.00000</td>\n",
       "      <td>153.340000</td>\n",
       "    </tr>\n",
       "    <tr>\n",
       "      <th>max</th>\n",
       "      <td>2021-07-10 00:00:00</td>\n",
       "      <td>61.100000</td>\n",
       "      <td>87052.400000</td>\n",
       "      <td>20.00000</td>\n",
       "      <td>280.050000</td>\n",
       "    </tr>\n",
       "    <tr>\n",
       "      <th>std</th>\n",
       "      <td>NaN</td>\n",
       "      <td>8.458676</td>\n",
       "      <td>13262.457038</td>\n",
       "      <td>2.58561</td>\n",
       "      <td>51.768645</td>\n",
       "    </tr>\n",
       "  </tbody>\n",
       "</table>\n",
       "</div>"
      ],
      "text/plain": [
       "                      date         age        income  transactions       spend\n",
       "count                  160  160.000000    155.000000     160.00000  157.000000\n",
       "mean   2021-04-21 12:00:00   40.018750  41983.866323       3.23750  117.291592\n",
       "min    2021-02-01 00:00:00   22.000000  17928.800000       0.00000    0.540000\n",
       "25%    2021-03-12 18:00:00   34.700000  32471.530000       2.00000   77.250000\n",
       "50%    2021-04-21 12:00:00   40.150000  39332.520000       3.00000  119.320000\n",
       "75%    2021-05-31 06:00:00   44.925000  49697.690000       4.00000  153.340000\n",
       "max    2021-07-10 00:00:00   61.100000  87052.400000      20.00000  280.050000\n",
       "std                    NaN    8.458676  13262.457038       2.58561   51.768645"
      ]
     },
     "execution_count": 11,
     "metadata": {},
     "output_type": "execute_result"
    }
   ],
   "source": [
    "df.describe()"
   ]
  },
  {
   "cell_type": "code",
   "execution_count": 10,
   "metadata": {},
   "outputs": [
    {
     "name": "stdout",
     "output_type": "stream",
     "text": [
      "<class 'pandas.core.frame.DataFrame'>\n",
      "RangeIndex: 160 entries, 0 to 159\n",
      "Data columns (total 6 columns):\n",
      " #   Column        Non-Null Count  Dtype         \n",
      "---  ------        --------------  -----         \n",
      " 0   date          160 non-null    datetime64[ns]\n",
      " 1   region        160 non-null    object        \n",
      " 2   age           160 non-null    float64       \n",
      " 3   income        155 non-null    float64       \n",
      " 4   transactions  160 non-null    int64         \n",
      " 5   spend         157 non-null    float64       \n",
      "dtypes: datetime64[ns](1), float64(3), int64(1), object(1)\n",
      "memory usage: 7.6+ KB\n"
     ]
    }
   ],
   "source": [
    "df.info()"
   ]
  },
  {
   "cell_type": "code",
   "execution_count": null,
   "metadata": {},
   "outputs": [],
   "source": []
  }
 ],
 "metadata": {
  "kernelspec": {
   "display_name": "Python 3",
   "language": "python",
   "name": "python3"
  },
  "language_info": {
   "codemirror_mode": {
    "name": "ipython",
    "version": 3
   },
   "file_extension": ".py",
   "mimetype": "text/x-python",
   "name": "python",
   "nbconvert_exporter": "python",
   "pygments_lexer": "ipython3",
   "version": "3.12.2"
  }
 },
 "nbformat": 4,
 "nbformat_minor": 2
}
