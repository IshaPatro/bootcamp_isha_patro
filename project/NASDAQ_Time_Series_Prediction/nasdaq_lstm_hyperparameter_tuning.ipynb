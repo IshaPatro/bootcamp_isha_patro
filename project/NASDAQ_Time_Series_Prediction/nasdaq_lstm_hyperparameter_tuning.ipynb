{
 "cells": [
  {
   "cell_type": "markdown",
   "id": "notebook-title",
   "metadata": {},
   "source": [
    "# NASDAQ LSTM Hyperparameter Tuning\n",
    "\n",
    "This notebook implements automated hyperparameter optimization for LSTM neural networks applied to NASDAQ time series prediction using Optuna framework."
   ]
  },
  {
   "cell_type": "markdown",
   "id": "imports-section",
   "metadata": {},
   "source": [
    "## Dependencies and Imports\n",
    "\n",
    "Essential libraries for data processing, machine learning, and hyperparameter optimization."
   ]
  },
  {
   "cell_type": "code",
   "execution_count": 1,
   "id": "8d7ef8f6",
   "metadata": {},
   "outputs": [],
   "source": [
    "%%capture\n",
    "%pip install -r requirements.txt"
   ]
  },
  {
   "cell_type": "code",
   "execution_count": null,
   "id": "imports",
   "metadata": {},
   "outputs": [
    {
     "name": "stderr",
     "output_type": "stream",
     "text": [
      "/Users/isha/Desktop/NYU/Bootcamp/Bootcamp-4/homework/Repo/bootcamp_isha_patro/bootcamp_venv/lib/python3.10/site-packages/tqdm/auto.py:21: TqdmWarning: IProgress not found. Please update jupyter and ipywidgets. See https://ipywidgets.readthedocs.io/en/stable/user_install.html\n",
      "  from .autonotebook import tqdm as notebook_tqdm\n"
     ]
    }
   ],
   "source": [
    "import pandas as pd\n",
    "import numpy as np\n",
    "import optuna\n",
    "from sklearn.metrics import r2_score, mean_squared_error, mean_absolute_error\n",
    "from sklearn.preprocessing import MinMaxScaler\n",
    "from tensorflow.keras.models import Sequential\n",
    "from tensorflow.keras.layers import LSTM, Dense, Dropout\n",
    "from tensorflow.keras.regularizers import l2\n",
    "from tensorflow.keras.optimizers import Adam\n",
    "from tensorflow.keras.callbacks import EarlyStopping\n",
    "import matplotlib.pyplot as plt\n",
    "import seaborn as sns\n",
    "plt.style.use('seaborn-v0_8')\n",
    "sns.set_palette(\"husl\")"
   ]
  },
  {
   "cell_type": "markdown",
   "id": "data-loading-section",
   "metadata": {},
   "source": [
    "## Data Loading and Preprocessing\n",
    "\n",
    "Load NASDAQ historical data and prepare it for time series modeling with normalization."
   ]
  },
  {
   "cell_type": "code",
   "execution_count": 3,
   "id": "data-loading",
   "metadata": {},
   "outputs": [],
   "source": [
    "df = pd.read_csv('data/HistoricalData.csv')\n",
    "df.rename(columns={'Close/Last':'Close'}, inplace=True)\n",
    "df['Date'] = pd.to_datetime(df['Date'])\n",
    "df.sort_values(by='Date', ascending=True, inplace=True)\n",
    "series = pd.to_numeric(df['Close'], errors='coerce').dropna().values.reshape(-1,1)\n",
    "scaler = MinMaxScaler()\n",
    "scaled = scaler.fit_transform(series)"
   ]
  },
  {
   "cell_type": "markdown",
   "id": "sequence-creation-section",
   "metadata": {},
   "source": [
    "## Sequence Creation Utility\n",
    "\n",
    "Function to create input-output sequences for LSTM training with configurable lookback window."
   ]
  },
  {
   "cell_type": "code",
   "execution_count": 4,
   "id": "sequence-creation",
   "metadata": {},
   "outputs": [],
   "source": [
    "def make_sequences(arr, look_back):\n",
    "    X, y = [], []\n",
    "    for i in range(look_back, len(arr)):\n",
    "        X.append(arr[i-look_back:i])\n",
    "        y.append(arr[i])\n",
    "    X = np.array(X)\n",
    "    y = np.array(y)\n",
    "    return X, y"
   ]
  },
  {
   "cell_type": "markdown",
   "id": "model-evaluation-section",
   "metadata": {},
   "source": [
    "## Model Training and Evaluation Function\n",
    "\n",
    "Comprehensive function that builds, trains, and evaluates LSTM models with given hyperparameters."
   ]
  },
  {
   "cell_type": "code",
   "execution_count": 5,
   "id": "model-evaluation",
   "metadata": {},
   "outputs": [],
   "source": [
    "train_ratio = 0.8\n",
    "\n",
    "def train_eval(params):\n",
    "    look_back = params['look_back']\n",
    "    X, y = make_sequences(scaled, look_back)\n",
    "    split = int(len(X)*train_ratio)\n",
    "    X_train, X_test = X[:split], X[split:]\n",
    "    y_train, y_test = y[:split], y[split:]\n",
    "    \n",
    "    model = Sequential()\n",
    "    model.add(LSTM(params['lstm_units'], input_shape=(look_back,1), kernel_regularizer=l2(params['l2_reg']), return_sequences=False))\n",
    "    if params['dropout_rate']>0:\n",
    "        model.add(Dropout(params['dropout_rate']))\n",
    "    model.add(Dense(1))\n",
    "    model.compile(optimizer=Adam(learning_rate=params['learning_rate']), loss='mse')\n",
    "    \n",
    "    es = EarlyStopping(monitor='val_loss', patience=params['patience'], restore_best_weights=True)\n",
    "    model.fit(X_train, y_train, epochs=params['epochs'], batch_size=params['batch_size'], \n",
    "              validation_split=params['validation_split'], shuffle=params['shuffle'], \n",
    "              callbacks=[es], verbose=0)\n",
    "    \n",
    "    train_pred = model.predict(X_train, verbose=0)\n",
    "    test_pred = model.predict(X_test, verbose=0)\n",
    "    train_actual = scaler.inverse_transform(y_train)\n",
    "    test_actual = scaler.inverse_transform(y_test)\n",
    "    train_pred_actual = scaler.inverse_transform(train_pred)\n",
    "    test_pred_actual = scaler.inverse_transform(test_pred)\n",
    "    \n",
    "    train_rmse = float(np.sqrt(mean_squared_error(train_actual, train_pred_actual)))\n",
    "    train_mae = float(mean_absolute_error(train_actual, train_pred_actual))\n",
    "    train_r2 = float(r2_score(train_actual, train_pred_actual))\n",
    "    test_rmse = float(np.sqrt(mean_squared_error(test_actual, test_pred_actual)))\n",
    "    test_mae = float(mean_absolute_error(test_actual, test_pred_actual))\n",
    "    test_r2 = float(r2_score(test_actual, test_pred_actual))\n",
    "    \n",
    "    return {'train_rmse':train_rmse,'train_mae':train_mae,'train_r2':train_r2,\n",
    "            'test_rmse':test_rmse,'test_mae':test_mae,'test_r2':test_r2}"
   ]
  },
  {
   "cell_type": "markdown",
   "id": "baseline-section",
   "metadata": {},
   "source": [
    "## Baseline Model Evaluation\n",
    "\n",
    "Establish baseline performance with default hyperparameters before optimization."
   ]
  },
  {
   "cell_type": "code",
   "execution_count": 6,
   "id": "baseline-evaluation",
   "metadata": {},
   "outputs": [
    {
     "name": "stderr",
     "output_type": "stream",
     "text": [
      "2025-10-25 11:09:09.732836: I metal_plugin/src/device/metal_device.cc:1154] Metal device set to: Apple M1\n",
      "2025-10-25 11:09:09.732868: I metal_plugin/src/device/metal_device.cc:296] systemMemory: 8.00 GB\n",
      "2025-10-25 11:09:09.732874: I metal_plugin/src/device/metal_device.cc:313] maxCacheSize: 2.67 GB\n",
      "2025-10-25 11:09:09.733579: I tensorflow/core/common_runtime/pluggable_device/pluggable_device_factory.cc:303] Could not identify NUMA node of platform GPU ID 0, defaulting to 0. Your kernel may not have been built with NUMA support.\n",
      "2025-10-25 11:09:09.733814: I tensorflow/core/common_runtime/pluggable_device/pluggable_device_factory.cc:269] Created TensorFlow device (/job:localhost/replica:0/task:0/device:GPU:0 with 0 MB memory) -> physical PluggableDevice (device: 0, name: METAL, pci bus id: <undefined>)\n",
      "WARNING:absl:At this time, the v2.11+ optimizer `tf.keras.optimizers.Adam` runs slowly on M1/M2 Macs, please use the legacy Keras optimizer instead, located at `tf.keras.optimizers.legacy.Adam`.\n",
      "WARNING:absl:There is a known slowdown when using v2.11+ Keras optimizers on M1/M2 Macs. Falling back to the legacy Keras optimizer, i.e., `tf.keras.optimizers.legacy.Adam`.\n",
      "2025-10-25 11:09:10.638046: I tensorflow/core/grappler/optimizers/custom_graph_optimizer_registry.cc:114] Plugin optimizer for device_type GPU is enabled.\n",
      "2025-10-25 11:09:10.795812: I tensorflow/core/grappler/optimizers/custom_graph_optimizer_registry.cc:114] Plugin optimizer for device_type GPU is enabled.\n",
      "2025-10-25 11:09:10.978107: I tensorflow/core/grappler/optimizers/custom_graph_optimizer_registry.cc:114] Plugin optimizer for device_type GPU is enabled.\n",
      "2025-10-25 11:09:11.814516: I tensorflow/core/grappler/optimizers/custom_graph_optimizer_registry.cc:114] Plugin optimizer for device_type GPU is enabled.\n",
      "2025-10-25 11:09:11.861306: I tensorflow/core/grappler/optimizers/custom_graph_optimizer_registry.cc:114] Plugin optimizer for device_type GPU is enabled.\n",
      "2025-10-25 11:09:28.357001: I tensorflow/core/grappler/optimizers/custom_graph_optimizer_registry.cc:114] Plugin optimizer for device_type GPU is enabled.\n",
      "2025-10-25 11:09:28.396567: I tensorflow/core/grappler/optimizers/custom_graph_optimizer_registry.cc:114] Plugin optimizer for device_type GPU is enabled.\n"
     ]
    }
   ],
   "source": [
    "baseline = {'look_back':20,'lstm_units':16,'dropout_rate':0.2,'l2_reg':0.0005,\n",
    "           'learning_rate':0.001,'epochs':50,'batch_size':32,'patience':8,\n",
    "           'validation_split':0.2,'shuffle':False}\n",
    "before = train_eval(baseline)"
   ]
  },
  {
   "cell_type": "markdown",
   "id": "optuna-objective-section",
   "metadata": {},
   "source": [
    "## Optuna Objective Function\n",
    "\n",
    "Define the optimization objective function with hyperparameter search spaces for Optuna."
   ]
  },
  {
   "cell_type": "code",
   "execution_count": 7,
   "id": "optuna-objective",
   "metadata": {},
   "outputs": [],
   "source": [
    "def objective(trial):\n",
    "    params = {\n",
    "        'look_back': trial.suggest_int('look_back', 15, 30),\n",
    "        'lstm_units': trial.suggest_int('lstm_units', 16, 64),\n",
    "        'dropout_rate': trial.suggest_float('dropout_rate', 0.0, 0.4),\n",
    "        'l2_reg': trial.suggest_float('l2_reg', 0.0, 0.001),\n",
    "        'learning_rate': trial.suggest_float('learning_rate', 1e-4, 5e-3, log=True),\n",
    "        'epochs': trial.suggest_int('epochs', 30, 80),\n",
    "        'batch_size': trial.suggest_categorical('batch_size', [16,32,64]),\n",
    "        'patience': trial.suggest_int('patience', 5, 12),\n",
    "        'validation_split': trial.suggest_float('validation_split', 0.1, 0.3),\n",
    "        'shuffle': False\n",
    "    }\n",
    "    metrics = train_eval(params)\n",
    "    return metrics['test_r2']"
   ]
  },
  {
   "cell_type": "markdown",
   "id": "optimization-section",
   "metadata": {},
   "source": [
    "## Hyperparameter Optimization\n",
    "\n",
    "Execute Optuna study to find optimal hyperparameters maximizing test R² score."
   ]
  },
  {
   "cell_type": "code",
   "execution_count": null,
   "id": "optimization",
   "metadata": {},
   "outputs": [
    {
     "name": "stderr",
     "output_type": "stream",
     "text": [
      "[I 2025-10-25 11:09:28,711] A new study created in memory with name: no-name-aad041fd-4970-4bc1-b199-280b27dca53f\n",
      "  0%|          | 0/60 [00:00<?, ?it/s]WARNING:absl:At this time, the v2.11+ optimizer `tf.keras.optimizers.Adam` runs slowly on M1/M2 Macs, please use the legacy Keras optimizer instead, located at `tf.keras.optimizers.legacy.Adam`.\n",
      "WARNING:absl:There is a known slowdown when using v2.11+ Keras optimizers on M1/M2 Macs. Falling back to the legacy Keras optimizer, i.e., `tf.keras.optimizers.legacy.Adam`.\n",
      "2025-10-25 11:09:29.352543: I tensorflow/core/grappler/optimizers/custom_graph_optimizer_registry.cc:114] Plugin optimizer for device_type GPU is enabled.\n",
      "2025-10-25 11:09:29.510049: I tensorflow/core/grappler/optimizers/custom_graph_optimizer_registry.cc:114] Plugin optimizer for device_type GPU is enabled.\n",
      "2025-10-25 11:09:29.627077: I tensorflow/core/grappler/optimizers/custom_graph_optimizer_registry.cc:114] Plugin optimizer for device_type GPU is enabled.\n",
      "2025-10-25 11:09:30.513865: I tensorflow/core/grappler/optimizers/custom_graph_optimizer_registry.cc:114] Plugin optimizer for device_type GPU is enabled.\n",
      "2025-10-25 11:09:30.565532: I tensorflow/core/grappler/optimizers/custom_graph_optimizer_registry.cc:114] Plugin optimizer for device_type GPU is enabled.\n",
      "2025-10-25 11:09:52.463606: I tensorflow/core/grappler/optimizers/custom_graph_optimizer_registry.cc:114] Plugin optimizer for device_type GPU is enabled.\n",
      "2025-10-25 11:09:52.504240: I tensorflow/core/grappler/optimizers/custom_graph_optimizer_registry.cc:114] Plugin optimizer for device_type GPU is enabled.\n",
      "Best trial: 0. Best value: 0.801093:   2%|▏         | 1/60 [00:24<23:44, 24.14s/it]WARNING:absl:At this time, the v2.11+ optimizer `tf.keras.optimizers.Adam` runs slowly on M1/M2 Macs, please use the legacy Keras optimizer instead, located at `tf.keras.optimizers.legacy.Adam`.\n",
      "WARNING:absl:There is a known slowdown when using v2.11+ Keras optimizers on M1/M2 Macs. Falling back to the legacy Keras optimizer, i.e., `tf.keras.optimizers.legacy.Adam`.\n"
     ]
    },
    {
     "name": "stdout",
     "output_type": "stream",
     "text": [
      "[I 2025-10-25 11:09:52,887] Trial 0 finished with value: 0.8010929146469492 and parameters: {'look_back': 30, 'lstm_units': 61, 'dropout_rate': 0.26224256298077964, 'l2_reg': 0.0007240564985022812, 'learning_rate': 0.00021038264151354466, 'epochs': 47, 'batch_size': 32, 'patience': 12, 'validation_split': 0.1644648709373222}. Best is trial 0 with value: 0.8010929146469492.\n"
     ]
    },
    {
     "name": "stderr",
     "output_type": "stream",
     "text": [
      "2025-10-25 11:09:53.472979: I tensorflow/core/grappler/optimizers/custom_graph_optimizer_registry.cc:114] Plugin optimizer for device_type GPU is enabled.\n",
      "2025-10-25 11:09:53.605674: I tensorflow/core/grappler/optimizers/custom_graph_optimizer_registry.cc:114] Plugin optimizer for device_type GPU is enabled.\n",
      "2025-10-25 11:09:53.719470: I tensorflow/core/grappler/optimizers/custom_graph_optimizer_registry.cc:114] Plugin optimizer for device_type GPU is enabled.\n",
      "2025-10-25 11:09:54.442148: I tensorflow/core/grappler/optimizers/custom_graph_optimizer_registry.cc:114] Plugin optimizer for device_type GPU is enabled.\n",
      "2025-10-25 11:09:54.496001: I tensorflow/core/grappler/optimizers/custom_graph_optimizer_registry.cc:114] Plugin optimizer for device_type GPU is enabled.\n",
      "2025-10-25 11:10:12.139449: I tensorflow/core/grappler/optimizers/custom_graph_optimizer_registry.cc:114] Plugin optimizer for device_type GPU is enabled.\n",
      "2025-10-25 11:10:12.189927: I tensorflow/core/grappler/optimizers/custom_graph_optimizer_registry.cc:114] Plugin optimizer for device_type GPU is enabled.\n",
      "Best trial: 1. Best value: 0.903619:   3%|▎         | 2/60 [00:43<20:45, 21.48s/it]WARNING:absl:At this time, the v2.11+ optimizer `tf.keras.optimizers.Adam` runs slowly on M1/M2 Macs, please use the legacy Keras optimizer instead, located at `tf.keras.optimizers.legacy.Adam`.\n",
      "WARNING:absl:There is a known slowdown when using v2.11+ Keras optimizers on M1/M2 Macs. Falling back to the legacy Keras optimizer, i.e., `tf.keras.optimizers.legacy.Adam`.\n"
     ]
    },
    {
     "name": "stdout",
     "output_type": "stream",
     "text": [
      "[I 2025-10-25 11:10:12,503] Trial 1 finished with value: 0.9036188170510455 and parameters: {'look_back': 16, 'lstm_units': 19, 'dropout_rate': 0.3352922668334735, 'l2_reg': 0.0009421746729220679, 'learning_rate': 0.00011072341954206338, 'epochs': 55, 'batch_size': 64, 'patience': 8, 'validation_split': 0.25934013426292724}. Best is trial 1 with value: 0.9036188170510455.\n"
     ]
    },
    {
     "name": "stderr",
     "output_type": "stream",
     "text": [
      "2025-10-25 11:10:13.124645: I tensorflow/core/grappler/optimizers/custom_graph_optimizer_registry.cc:114] Plugin optimizer for device_type GPU is enabled.\n",
      "2025-10-25 11:10:13.267653: I tensorflow/core/grappler/optimizers/custom_graph_optimizer_registry.cc:114] Plugin optimizer for device_type GPU is enabled.\n",
      "2025-10-25 11:10:13.380072: I tensorflow/core/grappler/optimizers/custom_graph_optimizer_registry.cc:114] Plugin optimizer for device_type GPU is enabled.\n",
      "2025-10-25 11:10:14.222663: I tensorflow/core/grappler/optimizers/custom_graph_optimizer_registry.cc:114] Plugin optimizer for device_type GPU is enabled.\n",
      "2025-10-25 11:10:14.276703: I tensorflow/core/grappler/optimizers/custom_graph_optimizer_registry.cc:114] Plugin optimizer for device_type GPU is enabled.\n",
      "2025-10-25 11:10:22.643339: I tensorflow/core/grappler/optimizers/custom_graph_optimizer_registry.cc:114] Plugin optimizer for device_type GPU is enabled.\n",
      "2025-10-25 11:10:22.684735: I tensorflow/core/grappler/optimizers/custom_graph_optimizer_registry.cc:114] Plugin optimizer for device_type GPU is enabled.\n",
      "Best trial: 1. Best value: 0.903619:   5%|▌         | 3/60 [00:54<15:39, 16.48s/it]WARNING:absl:At this time, the v2.11+ optimizer `tf.keras.optimizers.Adam` runs slowly on M1/M2 Macs, please use the legacy Keras optimizer instead, located at `tf.keras.optimizers.legacy.Adam`.\n",
      "WARNING:absl:There is a known slowdown when using v2.11+ Keras optimizers on M1/M2 Macs. Falling back to the legacy Keras optimizer, i.e., `tf.keras.optimizers.legacy.Adam`.\n"
     ]
    },
    {
     "name": "stdout",
     "output_type": "stream",
     "text": [
      "[I 2025-10-25 11:10:23,038] Trial 2 finished with value: 0.8994509798573802 and parameters: {'look_back': 23, 'lstm_units': 63, 'dropout_rate': 0.3128669816531511, 'l2_reg': 0.00027052757773260607, 'learning_rate': 0.0014412161565847805, 'epochs': 50, 'batch_size': 32, 'patience': 7, 'validation_split': 0.1984227820546985}. Best is trial 1 with value: 0.9036188170510455.\n"
     ]
    },
    {
     "name": "stderr",
     "output_type": "stream",
     "text": [
      "2025-10-25 11:10:23.643541: I tensorflow/core/grappler/optimizers/custom_graph_optimizer_registry.cc:114] Plugin optimizer for device_type GPU is enabled.\n",
      "2025-10-25 11:10:23.779815: I tensorflow/core/grappler/optimizers/custom_graph_optimizer_registry.cc:114] Plugin optimizer for device_type GPU is enabled.\n",
      "2025-10-25 11:10:23.889184: I tensorflow/core/grappler/optimizers/custom_graph_optimizer_registry.cc:114] Plugin optimizer for device_type GPU is enabled.\n",
      "2025-10-25 11:10:26.007936: I tensorflow/core/grappler/optimizers/custom_graph_optimizer_registry.cc:114] Plugin optimizer for device_type GPU is enabled.\n",
      "2025-10-25 11:10:26.061259: I tensorflow/core/grappler/optimizers/custom_graph_optimizer_registry.cc:114] Plugin optimizer for device_type GPU is enabled.\n",
      "2025-10-25 11:10:32.615463: I tensorflow/core/grappler/optimizers/custom_graph_optimizer_registry.cc:114] Plugin optimizer for device_type GPU is enabled.\n",
      "2025-10-25 11:10:32.657081: I tensorflow/core/grappler/optimizers/custom_graph_optimizer_registry.cc:114] Plugin optimizer for device_type GPU is enabled.\n",
      "Best trial: 1. Best value: 0.903619:   7%|▋         | 4/60 [01:04<12:58, 13.91s/it]WARNING:absl:At this time, the v2.11+ optimizer `tf.keras.optimizers.Adam` runs slowly on M1/M2 Macs, please use the legacy Keras optimizer instead, located at `tf.keras.optimizers.legacy.Adam`.\n",
      "WARNING:absl:There is a known slowdown when using v2.11+ Keras optimizers on M1/M2 Macs. Falling back to the legacy Keras optimizer, i.e., `tf.keras.optimizers.legacy.Adam`.\n"
     ]
    },
    {
     "name": "stdout",
     "output_type": "stream",
     "text": [
      "[I 2025-10-25 11:10:33,002] Trial 3 finished with value: 0.47772728769346806 and parameters: {'look_back': 30, 'lstm_units': 17, 'dropout_rate': 0.3773234837591669, 'l2_reg': 0.00011153427757756585, 'learning_rate': 0.00030274701850095524, 'epochs': 53, 'batch_size': 32, 'patience': 6, 'validation_split': 0.10758925638697366}. Best is trial 1 with value: 0.9036188170510455.\n"
     ]
    },
    {
     "name": "stderr",
     "output_type": "stream",
     "text": [
      "2025-10-25 11:10:33.613120: I tensorflow/core/grappler/optimizers/custom_graph_optimizer_registry.cc:114] Plugin optimizer for device_type GPU is enabled.\n",
      "2025-10-25 11:10:33.748608: I tensorflow/core/grappler/optimizers/custom_graph_optimizer_registry.cc:114] Plugin optimizer for device_type GPU is enabled.\n",
      "2025-10-25 11:10:33.861080: I tensorflow/core/grappler/optimizers/custom_graph_optimizer_registry.cc:114] Plugin optimizer for device_type GPU is enabled.\n",
      "2025-10-25 11:10:34.871391: I tensorflow/core/grappler/optimizers/custom_graph_optimizer_registry.cc:114] Plugin optimizer for device_type GPU is enabled.\n",
      "2025-10-25 11:10:34.949816: I tensorflow/core/grappler/optimizers/custom_graph_optimizer_registry.cc:114] Plugin optimizer for device_type GPU is enabled.\n",
      "2025-10-25 11:10:38.394533: I tensorflow/core/grappler/optimizers/custom_graph_optimizer_registry.cc:114] Plugin optimizer for device_type GPU is enabled.\n",
      "2025-10-25 11:10:38.441394: I tensorflow/core/grappler/optimizers/custom_graph_optimizer_registry.cc:114] Plugin optimizer for device_type GPU is enabled.\n",
      "Best trial: 1. Best value: 0.903619:   8%|▊         | 5/60 [01:10<10:03, 10.97s/it]WARNING:absl:At this time, the v2.11+ optimizer `tf.keras.optimizers.Adam` runs slowly on M1/M2 Macs, please use the legacy Keras optimizer instead, located at `tf.keras.optimizers.legacy.Adam`.\n",
      "WARNING:absl:There is a known slowdown when using v2.11+ Keras optimizers on M1/M2 Macs. Falling back to the legacy Keras optimizer, i.e., `tf.keras.optimizers.legacy.Adam`.\n"
     ]
    },
    {
     "name": "stdout",
     "output_type": "stream",
     "text": [
      "[I 2025-10-25 11:10:38,755] Trial 4 finished with value: 0.8067744304847788 and parameters: {'look_back': 15, 'lstm_units': 56, 'dropout_rate': 0.37057505786904543, 'l2_reg': 0.0004043314190926446, 'learning_rate': 0.00260718854621342, 'epochs': 56, 'batch_size': 64, 'patience': 5, 'validation_split': 0.1905264645611284}. Best is trial 1 with value: 0.9036188170510455.\n"
     ]
    },
    {
     "name": "stderr",
     "output_type": "stream",
     "text": [
      "2025-10-25 11:10:39.339537: I tensorflow/core/grappler/optimizers/custom_graph_optimizer_registry.cc:114] Plugin optimizer for device_type GPU is enabled.\n",
      "2025-10-25 11:10:39.481497: I tensorflow/core/grappler/optimizers/custom_graph_optimizer_registry.cc:114] Plugin optimizer for device_type GPU is enabled.\n",
      "2025-10-25 11:10:39.604891: I tensorflow/core/grappler/optimizers/custom_graph_optimizer_registry.cc:114] Plugin optimizer for device_type GPU is enabled.\n",
      "2025-10-25 11:10:40.175447: I tensorflow/core/grappler/optimizers/custom_graph_optimizer_registry.cc:114] Plugin optimizer for device_type GPU is enabled.\n",
      "2025-10-25 11:10:40.260998: I tensorflow/core/grappler/optimizers/custom_graph_optimizer_registry.cc:114] Plugin optimizer for device_type GPU is enabled.\n",
      "2025-10-25 11:10:46.116778: I tensorflow/core/grappler/optimizers/custom_graph_optimizer_registry.cc:114] Plugin optimizer for device_type GPU is enabled.\n",
      "2025-10-25 11:10:46.159153: I tensorflow/core/grappler/optimizers/custom_graph_optimizer_registry.cc:114] Plugin optimizer for device_type GPU is enabled.\n",
      "Best trial: 5. Best value: 0.956051:  10%|█         | 6/60 [01:17<08:52,  9.86s/it]WARNING:absl:At this time, the v2.11+ optimizer `tf.keras.optimizers.Adam` runs slowly on M1/M2 Macs, please use the legacy Keras optimizer instead, located at `tf.keras.optimizers.legacy.Adam`.\n",
      "WARNING:absl:There is a known slowdown when using v2.11+ Keras optimizers on M1/M2 Macs. Falling back to the legacy Keras optimizer, i.e., `tf.keras.optimizers.legacy.Adam`.\n"
     ]
    },
    {
     "name": "stdout",
     "output_type": "stream",
     "text": [
      "[I 2025-10-25 11:10:46,467] Trial 5 finished with value: 0.9560507071795832 and parameters: {'look_back': 21, 'lstm_units': 32, 'dropout_rate': 0.2439540231105987, 'l2_reg': 9.32360337423187e-05, 'learning_rate': 0.0003367524544545975, 'epochs': 57, 'batch_size': 64, 'patience': 9, 'validation_split': 0.26845659075850425}. Best is trial 5 with value: 0.9560507071795832.\n"
     ]
    },
    {
     "name": "stderr",
     "output_type": "stream",
     "text": [
      "2025-10-25 11:10:47.036455: I tensorflow/core/grappler/optimizers/custom_graph_optimizer_registry.cc:114] Plugin optimizer for device_type GPU is enabled.\n",
      "2025-10-25 11:10:47.174734: I tensorflow/core/grappler/optimizers/custom_graph_optimizer_registry.cc:114] Plugin optimizer for device_type GPU is enabled.\n",
      "2025-10-25 11:10:47.294322: I tensorflow/core/grappler/optimizers/custom_graph_optimizer_registry.cc:114] Plugin optimizer for device_type GPU is enabled.\n",
      "2025-10-25 11:10:48.048190: I tensorflow/core/grappler/optimizers/custom_graph_optimizer_registry.cc:114] Plugin optimizer for device_type GPU is enabled.\n",
      "2025-10-25 11:10:48.100530: I tensorflow/core/grappler/optimizers/custom_graph_optimizer_registry.cc:114] Plugin optimizer for device_type GPU is enabled.\n",
      "2025-10-25 11:11:16.088496: I tensorflow/core/grappler/optimizers/custom_graph_optimizer_registry.cc:114] Plugin optimizer for device_type GPU is enabled.\n",
      "2025-10-25 11:11:16.129472: I tensorflow/core/grappler/optimizers/custom_graph_optimizer_registry.cc:114] Plugin optimizer for device_type GPU is enabled.\n",
      "Best trial: 5. Best value: 0.956051:  12%|█▏        | 7/60 [01:47<14:30, 16.43s/it]WARNING:absl:At this time, the v2.11+ optimizer `tf.keras.optimizers.Adam` runs slowly on M1/M2 Macs, please use the legacy Keras optimizer instead, located at `tf.keras.optimizers.legacy.Adam`.\n",
      "WARNING:absl:There is a known slowdown when using v2.11+ Keras optimizers on M1/M2 Macs. Falling back to the legacy Keras optimizer, i.e., `tf.keras.optimizers.legacy.Adam`.\n"
     ]
    },
    {
     "name": "stdout",
     "output_type": "stream",
     "text": [
      "[I 2025-10-25 11:11:16,430] Trial 6 finished with value: 0.7935346036607267 and parameters: {'look_back': 15, 'lstm_units': 40, 'dropout_rate': 0.06858966967365375, 'l2_reg': 0.00041816074930860783, 'learning_rate': 0.00028491291559260023, 'epochs': 69, 'batch_size': 32, 'patience': 7, 'validation_split': 0.2791214715967842}. Best is trial 5 with value: 0.9560507071795832.\n"
     ]
    },
    {
     "name": "stderr",
     "output_type": "stream",
     "text": [
      "2025-10-25 11:11:17.029759: I tensorflow/core/grappler/optimizers/custom_graph_optimizer_registry.cc:114] Plugin optimizer for device_type GPU is enabled.\n",
      "2025-10-25 11:11:17.162574: I tensorflow/core/grappler/optimizers/custom_graph_optimizer_registry.cc:114] Plugin optimizer for device_type GPU is enabled.\n",
      "2025-10-25 11:11:17.287752: I tensorflow/core/grappler/optimizers/custom_graph_optimizer_registry.cc:114] Plugin optimizer for device_type GPU is enabled.\n",
      "2025-10-25 11:11:18.138769: I tensorflow/core/grappler/optimizers/custom_graph_optimizer_registry.cc:114] Plugin optimizer for device_type GPU is enabled.\n",
      "2025-10-25 11:11:18.191963: I tensorflow/core/grappler/optimizers/custom_graph_optimizer_registry.cc:114] Plugin optimizer for device_type GPU is enabled.\n",
      "2025-10-25 11:11:58.618020: I tensorflow/core/grappler/optimizers/custom_graph_optimizer_registry.cc:114] Plugin optimizer for device_type GPU is enabled.\n",
      "2025-10-25 11:11:58.682615: I tensorflow/core/grappler/optimizers/custom_graph_optimizer_registry.cc:114] Plugin optimizer for device_type GPU is enabled.\n",
      "Best trial: 5. Best value: 0.956051:  13%|█▎        | 8/60 [02:30<21:28, 24.78s/it]"
     ]
    },
    {
     "name": "stdout",
     "output_type": "stream",
     "text": [
      "[I 2025-10-25 11:11:59,087] Trial 7 finished with value: 0.7868679584139897 and parameters: {'look_back': 15, 'lstm_units': 46, 'dropout_rate': 0.3418283176984709, 'l2_reg': 0.0002577700731975526, 'learning_rate': 0.00018167253624191631, 'epochs': 63, 'batch_size': 32, 'patience': 9, 'validation_split': 0.13069926759650446}. Best is trial 5 with value: 0.9560507071795832.\n"
     ]
    },
    {
     "name": "stderr",
     "output_type": "stream",
     "text": [
      "WARNING:absl:At this time, the v2.11+ optimizer `tf.keras.optimizers.Adam` runs slowly on M1/M2 Macs, please use the legacy Keras optimizer instead, located at `tf.keras.optimizers.legacy.Adam`.\n",
      "WARNING:absl:There is a known slowdown when using v2.11+ Keras optimizers on M1/M2 Macs. Falling back to the legacy Keras optimizer, i.e., `tf.keras.optimizers.legacy.Adam`.\n",
      "2025-10-25 11:11:59.901992: I tensorflow/core/grappler/optimizers/custom_graph_optimizer_registry.cc:114] Plugin optimizer for device_type GPU is enabled.\n",
      "2025-10-25 11:12:00.065918: I tensorflow/core/grappler/optimizers/custom_graph_optimizer_registry.cc:114] Plugin optimizer for device_type GPU is enabled.\n",
      "2025-10-25 11:12:00.218992: I tensorflow/core/grappler/optimizers/custom_graph_optimizer_registry.cc:114] Plugin optimizer for device_type GPU is enabled.\n",
      "2025-10-25 11:12:01.800341: I tensorflow/core/grappler/optimizers/custom_graph_optimizer_registry.cc:114] Plugin optimizer for device_type GPU is enabled.\n",
      "2025-10-25 11:12:01.864519: I tensorflow/core/grappler/optimizers/custom_graph_optimizer_registry.cc:114] Plugin optimizer for device_type GPU is enabled.\n",
      "2025-10-25 11:12:22.510242: I tensorflow/core/grappler/optimizers/custom_graph_optimizer_registry.cc:114] Plugin optimizer for device_type GPU is enabled.\n",
      "2025-10-25 11:12:22.558722: I tensorflow/core/grappler/optimizers/custom_graph_optimizer_registry.cc:114] Plugin optimizer for device_type GPU is enabled.\n",
      "Best trial: 5. Best value: 0.956051:  15%|█▌        | 9/60 [02:54<20:49, 24.50s/it]WARNING:absl:At this time, the v2.11+ optimizer `tf.keras.optimizers.Adam` runs slowly on M1/M2 Macs, please use the legacy Keras optimizer instead, located at `tf.keras.optimizers.legacy.Adam`.\n",
      "WARNING:absl:There is a known slowdown when using v2.11+ Keras optimizers on M1/M2 Macs. Falling back to the legacy Keras optimizer, i.e., `tf.keras.optimizers.legacy.Adam`.\n"
     ]
    },
    {
     "name": "stdout",
     "output_type": "stream",
     "text": [
      "[I 2025-10-25 11:12:22,958] Trial 8 finished with value: 0.9055658396466858 and parameters: {'look_back': 28, 'lstm_units': 51, 'dropout_rate': 0.27742013560876216, 'l2_reg': 6.2449832828391e-05, 'learning_rate': 0.001276857041097795, 'epochs': 34, 'batch_size': 16, 'patience': 10, 'validation_split': 0.2131402510384543}. Best is trial 5 with value: 0.9560507071795832.\n"
     ]
    },
    {
     "name": "stderr",
     "output_type": "stream",
     "text": [
      "2025-10-25 11:12:23.613818: I tensorflow/core/grappler/optimizers/custom_graph_optimizer_registry.cc:114] Plugin optimizer for device_type GPU is enabled.\n",
      "2025-10-25 11:12:23.761728: I tensorflow/core/grappler/optimizers/custom_graph_optimizer_registry.cc:114] Plugin optimizer for device_type GPU is enabled.\n",
      "2025-10-25 11:12:23.911973: I tensorflow/core/grappler/optimizers/custom_graph_optimizer_registry.cc:114] Plugin optimizer for device_type GPU is enabled.\n",
      "2025-10-25 11:12:24.847851: I tensorflow/core/grappler/optimizers/custom_graph_optimizer_registry.cc:114] Plugin optimizer for device_type GPU is enabled.\n",
      "2025-10-25 11:12:24.902625: I tensorflow/core/grappler/optimizers/custom_graph_optimizer_registry.cc:114] Plugin optimizer for device_type GPU is enabled.\n",
      "2025-10-25 11:12:35.407977: I tensorflow/core/grappler/optimizers/custom_graph_optimizer_registry.cc:114] Plugin optimizer for device_type GPU is enabled.\n",
      "2025-10-25 11:12:35.452802: I tensorflow/core/grappler/optimizers/custom_graph_optimizer_registry.cc:114] Plugin optimizer for device_type GPU is enabled.\n",
      "Best trial: 5. Best value: 0.956051:  17%|█▋        | 10/60 [03:07<17:24, 20.90s/it]WARNING:absl:At this time, the v2.11+ optimizer `tf.keras.optimizers.Adam` runs slowly on M1/M2 Macs, please use the legacy Keras optimizer instead, located at `tf.keras.optimizers.legacy.Adam`.\n",
      "WARNING:absl:There is a known slowdown when using v2.11+ Keras optimizers on M1/M2 Macs. Falling back to the legacy Keras optimizer, i.e., `tf.keras.optimizers.legacy.Adam`.\n"
     ]
    },
    {
     "name": "stdout",
     "output_type": "stream",
     "text": [
      "[I 2025-10-25 11:12:35,802] Trial 9 finished with value: 0.832259140843183 and parameters: {'look_back': 18, 'lstm_units': 24, 'dropout_rate': 0.30772635592230824, 'l2_reg': 7.55611848777339e-05, 'learning_rate': 0.001481517030512913, 'epochs': 76, 'batch_size': 32, 'patience': 7, 'validation_split': 0.1389799917321277}. Best is trial 5 with value: 0.9560507071795832.\n"
     ]
    },
    {
     "name": "stderr",
     "output_type": "stream",
     "text": [
      "2025-10-25 11:12:36.383817: I tensorflow/core/grappler/optimizers/custom_graph_optimizer_registry.cc:114] Plugin optimizer for device_type GPU is enabled.\n",
      "2025-10-25 11:12:36.513793: I tensorflow/core/grappler/optimizers/custom_graph_optimizer_registry.cc:114] Plugin optimizer for device_type GPU is enabled.\n",
      "2025-10-25 11:12:36.641508: I tensorflow/core/grappler/optimizers/custom_graph_optimizer_registry.cc:114] Plugin optimizer for device_type GPU is enabled.\n",
      "2025-10-25 11:12:37.232679: I tensorflow/core/grappler/optimizers/custom_graph_optimizer_registry.cc:114] Plugin optimizer for device_type GPU is enabled.\n",
      "2025-10-25 11:12:37.283386: I tensorflow/core/grappler/optimizers/custom_graph_optimizer_registry.cc:114] Plugin optimizer for device_type GPU is enabled.\n",
      "2025-10-25 11:12:49.298957: I tensorflow/core/grappler/optimizers/custom_graph_optimizer_registry.cc:114] Plugin optimizer for device_type GPU is enabled.\n",
      "2025-10-25 11:12:49.340879: I tensorflow/core/grappler/optimizers/custom_graph_optimizer_registry.cc:114] Plugin optimizer for device_type GPU is enabled.\n",
      "Best trial: 5. Best value: 0.956051:  18%|█▊        | 11/60 [03:20<15:18, 18.75s/it]"
     ]
    },
    {
     "name": "stdout",
     "output_type": "stream",
     "text": [
      "[I 2025-10-25 11:12:49,675] Trial 10 finished with value: 0.8121685332324335 and parameters: {'look_back': 22, 'lstm_units': 32, 'dropout_rate': 0.15678446411244892, 'l2_reg': 0.0006270839467154427, 'learning_rate': 0.0006243849132095543, 'epochs': 37, 'batch_size': 64, 'patience': 11, 'validation_split': 0.24620403892268117}. Best is trial 5 with value: 0.9560507071795832.\n"
     ]
    },
    {
     "name": "stderr",
     "output_type": "stream",
     "text": [
      "WARNING:absl:At this time, the v2.11+ optimizer `tf.keras.optimizers.Adam` runs slowly on M1/M2 Macs, please use the legacy Keras optimizer instead, located at `tf.keras.optimizers.legacy.Adam`.\n",
      "WARNING:absl:There is a known slowdown when using v2.11+ Keras optimizers on M1/M2 Macs. Falling back to the legacy Keras optimizer, i.e., `tf.keras.optimizers.legacy.Adam`.\n",
      "2025-10-25 11:12:50.774084: I tensorflow/core/grappler/optimizers/custom_graph_optimizer_registry.cc:114] Plugin optimizer for device_type GPU is enabled.\n",
      "2025-10-25 11:12:50.927507: I tensorflow/core/grappler/optimizers/custom_graph_optimizer_registry.cc:114] Plugin optimizer for device_type GPU is enabled.\n",
      "2025-10-25 11:12:51.080715: I tensorflow/core/grappler/optimizers/custom_graph_optimizer_registry.cc:114] Plugin optimizer for device_type GPU is enabled.\n",
      "2025-10-25 11:12:52.440994: I tensorflow/core/grappler/optimizers/custom_graph_optimizer_registry.cc:114] Plugin optimizer for device_type GPU is enabled.\n",
      "2025-10-25 11:12:52.498798: I tensorflow/core/grappler/optimizers/custom_graph_optimizer_registry.cc:114] Plugin optimizer for device_type GPU is enabled.\n",
      "2025-10-25 11:13:12.233612: I tensorflow/core/grappler/optimizers/custom_graph_optimizer_registry.cc:114] Plugin optimizer for device_type GPU is enabled.\n",
      "2025-10-25 11:13:12.285426: I tensorflow/core/grappler/optimizers/custom_graph_optimizer_registry.cc:114] Plugin optimizer for device_type GPU is enabled.\n",
      "Best trial: 5. Best value: 0.956051:  20%|██        | 12/60 [03:43<16:02, 20.05s/it]WARNING:absl:At this time, the v2.11+ optimizer `tf.keras.optimizers.Adam` runs slowly on M1/M2 Macs, please use the legacy Keras optimizer instead, located at `tf.keras.optimizers.legacy.Adam`.\n",
      "WARNING:absl:There is a known slowdown when using v2.11+ Keras optimizers on M1/M2 Macs. Falling back to the legacy Keras optimizer, i.e., `tf.keras.optimizers.legacy.Adam`.\n"
     ]
    },
    {
     "name": "stdout",
     "output_type": "stream",
     "text": [
      "[I 2025-10-25 11:13:12,704] Trial 11 finished with value: 0.8794749449252731 and parameters: {'look_back': 25, 'lstm_units': 43, 'dropout_rate': 0.1990265267148536, 'l2_reg': 2.9956472995096116e-05, 'learning_rate': 0.000646615406069276, 'epochs': 30, 'batch_size': 16, 'patience': 10, 'validation_split': 0.23588140390066156}. Best is trial 5 with value: 0.9560507071795832.\n"
     ]
    },
    {
     "name": "stderr",
     "output_type": "stream",
     "text": [
      "2025-10-25 11:13:13.317047: I tensorflow/core/grappler/optimizers/custom_graph_optimizer_registry.cc:114] Plugin optimizer for device_type GPU is enabled.\n",
      "2025-10-25 11:13:13.456841: I tensorflow/core/grappler/optimizers/custom_graph_optimizer_registry.cc:114] Plugin optimizer for device_type GPU is enabled.\n",
      "2025-10-25 11:13:13.622831: I tensorflow/core/grappler/optimizers/custom_graph_optimizer_registry.cc:114] Plugin optimizer for device_type GPU is enabled.\n",
      "2025-10-25 11:13:15.257337: I tensorflow/core/grappler/optimizers/custom_graph_optimizer_registry.cc:114] Plugin optimizer for device_type GPU is enabled.\n",
      "2025-10-25 11:13:15.315875: I tensorflow/core/grappler/optimizers/custom_graph_optimizer_registry.cc:114] Plugin optimizer for device_type GPU is enabled.\n"
     ]
    }
   ],
   "source": [
    "study = optuna.create_study(direction='maximize')\n",
    "study.optimize(objective, n_trials=60, show_progress_bar=True)\n",
    "best_params = study.best_params\n",
    "best_params['shuffle']=False\n",
    "metrics_after = train_eval(best_params)"
   ]
  },
  {
   "cell_type": "markdown",
   "id": "results-section",
   "metadata": {},
   "source": [
    "## Results Comparison\n",
    "\n",
    "Compare baseline and optimized model performance across all evaluation metrics."
   ]
  },
  {
   "cell_type": "code",
   "execution_count": null,
   "id": "results-comparison",
   "metadata": {},
   "outputs": [],
   "source": [
    "results = pd.DataFrame([dict(experiment='before',**before), \n",
    "                       dict(experiment='after',**metrics_after)])\n",
    "results"
   ]
  }
 ],
 "metadata": {
  "kernelspec": {
   "display_name": "bootcamp_venv",
   "language": "python",
   "name": "python3"
  },
  "language_info": {
   "codemirror_mode": {
    "name": "ipython",
    "version": 3
   },
   "file_extension": ".py",
   "mimetype": "text/x-python",
   "name": "python",
   "nbconvert_exporter": "python",
   "pygments_lexer": "ipython3",
   "version": "3.10.10"
  }
 },
 "nbformat": 4,
 "nbformat_minor": 5
}
